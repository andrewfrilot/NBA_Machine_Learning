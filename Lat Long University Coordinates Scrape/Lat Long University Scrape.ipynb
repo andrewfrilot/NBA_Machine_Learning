{
 "cells": [
  {
   "cell_type": "code",
   "execution_count": 4,
   "metadata": {},
   "outputs": [],
   "source": [
    "#Creating a for loop to find the lat/long of every university that has\n",
    "# had a player drafted into the NBA since 1990. \n",
    "\n",
    "# Dependencies\n",
    "import requests\n",
    "import json\n",
    "\n",
    "# Google API Key\n",
    "from config import gkey"
   ]
  },
  {
   "cell_type": "code",
   "execution_count": 12,
   "metadata": {},
   "outputs": [
    {
     "name": "stdout",
     "output_type": "stream",
     "text": [
      "<_csv.reader object at 0x00000233F5BA9D48>\n",
      "CSV Header: ['', 'Player', 'Class', 'Season', 'Pos', 'School', 'Conf', 'G', 'MP', 'FG', 'FGA', '2P', '2PA', '3P', '3PA', 'FT', 'FTA', 'ORB', 'DRB', 'TRB', 'AST', 'STL', 'BLK', 'TOV', 'PF', 'PTS', 'PER', 'eFG%', 'WS', 'AP Player of the Year', 'NABC Defensive Player of the Year', 'NABC Player of the Year', 'Naismith Award', 'NCAA Tournament Most Outstanding Player', 'NIT Most Valuable Player', 'Rupp Trophy', 'Sporting News Player of the Year', 'UPI Player of the Year', 'USBWA Freshman of the Year', 'Year', 'Rd', 'Pk', 'Tm', 'Projected Rd', 'Projected Pk', 'Team Score']\n"
     ]
    }
   ],
   "source": [
    "import csv\n",
    "import os\n",
    "\n",
    "#Import ncaa data \n",
    "\n",
    "csvpath = os.path.join('../static/data/ncaa_model.csv')\n",
    "\n",
    "with open(csvpath, newline='') as csvfile:\n",
    "    \n",
    "    csvreader = csv.reader(csvfile, delimiter=',')\n",
    "\n",
    "    print(csvreader)\n",
    "\n",
    "    # Read the header row first (skip this step if there is now header)\n",
    "    csv_header = next(csvreader)\n",
    "    print(f\"CSV Header: {csv_header}\")\n"
   ]
  },
  {
   "cell_type": "code",
   "execution_count": 25,
   "metadata": {},
   "outputs": [
    {
     "name": "stdout",
     "output_type": "stream",
     "text": [
      "<_csv.reader object at 0x00000233F8A0BE80>\n",
      "CSV Header: ['ï»¿School']\n"
     ]
    }
   ],
   "source": [
    "csvpath_unis = os.path.join('Schools+University.csv')\n",
    "\n",
    "with open(csvpath_unis, newline='') as csvfile:\n",
    "    \n",
    "    csvreader = csv.reader(csvfile, delimiter=',')\n",
    "\n",
    "    print(csvreader)\n",
    "\n",
    "    # Read the header row first (skip this step if there is now header)\n",
    "    csv_header = next(csvreader)\n",
    "    print(f\"CSV Header: {csv_header}\")"
   ]
  },
  {
   "cell_type": "code",
   "execution_count": 26,
   "metadata": {},
   "outputs": [
    {
     "name": "stdout",
     "output_type": "stream",
     "text": [
      "Duke University: 36.0014258, -78.9382286\n"
     ]
    }
   ],
   "source": [
    "target_city = \"Duke University\"\n",
    "\n",
    "params = {\"address\": target_city, \"key\": gkey}\n",
    "\n",
    "# Build URL using the Google Maps API\n",
    "base_url = \"https://maps.googleapis.com/maps/api/geocode/json\"\n",
    "\n",
    "# Run request\n",
    "response = requests.get(base_url, params=params)\n",
    "\n",
    "\n",
    "# Convert to JSON\n",
    "duke_geo = response.json()\n",
    "\n",
    "# Extract lat/lng\n",
    "lat = duke_geo[\"results\"][0][\"geometry\"][\"location\"][\"lat\"]\n",
    "lng = duke_geo[\"results\"][0][\"geometry\"][\"location\"][\"lng\"]\n",
    "\n",
    "# Print results\n",
    "print(f\"{target_city}: {lat}, {lng}\")"
   ]
  },
  {
   "cell_type": "code",
   "execution_count": 27,
   "metadata": {},
   "outputs": [
    {
     "data": {
      "text/html": [
       "<div>\n",
       "<style scoped>\n",
       "    .dataframe tbody tr th:only-of-type {\n",
       "        vertical-align: middle;\n",
       "    }\n",
       "\n",
       "    .dataframe tbody tr th {\n",
       "        vertical-align: top;\n",
       "    }\n",
       "\n",
       "    .dataframe thead th {\n",
       "        text-align: right;\n",
       "    }\n",
       "</style>\n",
       "<table border=\"1\" class=\"dataframe\">\n",
       "  <thead>\n",
       "    <tr style=\"text-align: right;\">\n",
       "      <th></th>\n",
       "      <th>Unnamed: 0</th>\n",
       "      <th>Player</th>\n",
       "      <th>Class</th>\n",
       "      <th>Season</th>\n",
       "      <th>Pos</th>\n",
       "      <th>School</th>\n",
       "      <th>Conf</th>\n",
       "      <th>G</th>\n",
       "      <th>MP</th>\n",
       "      <th>FG</th>\n",
       "      <th>...</th>\n",
       "      <th>Sporting News Player of the Year</th>\n",
       "      <th>UPI Player of the Year</th>\n",
       "      <th>USBWA Freshman of the Year</th>\n",
       "      <th>Year</th>\n",
       "      <th>Rd</th>\n",
       "      <th>Pk</th>\n",
       "      <th>Tm</th>\n",
       "      <th>Projected Rd</th>\n",
       "      <th>Projected Pk</th>\n",
       "      <th>Team Score</th>\n",
       "    </tr>\n",
       "  </thead>\n",
       "  <tbody>\n",
       "    <tr>\n",
       "      <th>0</th>\n",
       "      <td>5</td>\n",
       "      <td>Chris Mihm</td>\n",
       "      <td>SO</td>\n",
       "      <td>1999</td>\n",
       "      <td>C</td>\n",
       "      <td>Texas</td>\n",
       "      <td>Big 12</td>\n",
       "      <td>32</td>\n",
       "      <td>32.094</td>\n",
       "      <td>4.500</td>\n",
       "      <td>...</td>\n",
       "      <td>0</td>\n",
       "      <td>0</td>\n",
       "      <td>0</td>\n",
       "      <td>2000</td>\n",
       "      <td>1</td>\n",
       "      <td>7</td>\n",
       "      <td>CHI</td>\n",
       "      <td>1</td>\n",
       "      <td>7</td>\n",
       "      <td>0</td>\n",
       "    </tr>\n",
       "    <tr>\n",
       "      <th>1</th>\n",
       "      <td>7</td>\n",
       "      <td>Dan McClintock</td>\n",
       "      <td>JR</td>\n",
       "      <td>1999</td>\n",
       "      <td>C</td>\n",
       "      <td>Northern Arizona</td>\n",
       "      <td>Big Sky</td>\n",
       "      <td>27</td>\n",
       "      <td>16.741</td>\n",
       "      <td>4.630</td>\n",
       "      <td>...</td>\n",
       "      <td>0</td>\n",
       "      <td>0</td>\n",
       "      <td>0</td>\n",
       "      <td>2000</td>\n",
       "      <td>2</td>\n",
       "      <td>53</td>\n",
       "      <td>DEN</td>\n",
       "      <td>2</td>\n",
       "      <td>53</td>\n",
       "      <td>0</td>\n",
       "    </tr>\n",
       "    <tr>\n",
       "      <th>2</th>\n",
       "      <td>19</td>\n",
       "      <td>Mamadou N'Diaye</td>\n",
       "      <td>JR</td>\n",
       "      <td>1999</td>\n",
       "      <td>C</td>\n",
       "      <td>Auburn</td>\n",
       "      <td>SEC</td>\n",
       "      <td>33</td>\n",
       "      <td>23.788</td>\n",
       "      <td>2.667</td>\n",
       "      <td>...</td>\n",
       "      <td>0</td>\n",
       "      <td>0</td>\n",
       "      <td>0</td>\n",
       "      <td>2000</td>\n",
       "      <td>1</td>\n",
       "      <td>26</td>\n",
       "      <td>DEN</td>\n",
       "      <td>1</td>\n",
       "      <td>26</td>\n",
       "      <td>0</td>\n",
       "    </tr>\n",
       "    <tr>\n",
       "      <th>3</th>\n",
       "      <td>21</td>\n",
       "      <td>Desmond Mason</td>\n",
       "      <td>JR</td>\n",
       "      <td>1999</td>\n",
       "      <td>F</td>\n",
       "      <td>Oklahoma State</td>\n",
       "      <td>Big 12</td>\n",
       "      <td>34</td>\n",
       "      <td>34.706</td>\n",
       "      <td>5.765</td>\n",
       "      <td>...</td>\n",
       "      <td>0</td>\n",
       "      <td>0</td>\n",
       "      <td>0</td>\n",
       "      <td>2000</td>\n",
       "      <td>1</td>\n",
       "      <td>17</td>\n",
       "      <td>SEA</td>\n",
       "      <td>1</td>\n",
       "      <td>17</td>\n",
       "      <td>0</td>\n",
       "    </tr>\n",
       "    <tr>\n",
       "      <th>4</th>\n",
       "      <td>27</td>\n",
       "      <td>Dan Langhi</td>\n",
       "      <td>JR</td>\n",
       "      <td>1999</td>\n",
       "      <td>F</td>\n",
       "      <td>Vanderbilt</td>\n",
       "      <td>SEC</td>\n",
       "      <td>29</td>\n",
       "      <td>32.897</td>\n",
       "      <td>5.586</td>\n",
       "      <td>...</td>\n",
       "      <td>0</td>\n",
       "      <td>0</td>\n",
       "      <td>0</td>\n",
       "      <td>2000</td>\n",
       "      <td>2</td>\n",
       "      <td>31</td>\n",
       "      <td>DAL</td>\n",
       "      <td>2</td>\n",
       "      <td>31</td>\n",
       "      <td>0</td>\n",
       "    </tr>\n",
       "  </tbody>\n",
       "</table>\n",
       "<p>5 rows × 46 columns</p>\n",
       "</div>"
      ],
      "text/plain": [
       "   Unnamed: 0           Player Class  Season Pos            School     Conf  \\\n",
       "0           5       Chris Mihm    SO    1999   C             Texas   Big 12   \n",
       "1           7   Dan McClintock    JR    1999   C  Northern Arizona  Big Sky   \n",
       "2          19  Mamadou N'Diaye    JR    1999   C            Auburn      SEC   \n",
       "3          21    Desmond Mason    JR    1999   F    Oklahoma State   Big 12   \n",
       "4          27       Dan Langhi    JR    1999   F        Vanderbilt      SEC   \n",
       "\n",
       "    G      MP     FG     ...      Sporting News Player of the Year  \\\n",
       "0  32  32.094  4.500     ...                                     0   \n",
       "1  27  16.741  4.630     ...                                     0   \n",
       "2  33  23.788  2.667     ...                                     0   \n",
       "3  34  34.706  5.765     ...                                     0   \n",
       "4  29  32.897  5.586     ...                                     0   \n",
       "\n",
       "   UPI Player of the Year  USBWA Freshman of the Year  Year  Rd  Pk   Tm  \\\n",
       "0                       0                           0  2000   1   7  CHI   \n",
       "1                       0                           0  2000   2  53  DEN   \n",
       "2                       0                           0  2000   1  26  DEN   \n",
       "3                       0                           0  2000   1  17  SEA   \n",
       "4                       0                           0  2000   2  31  DAL   \n",
       "\n",
       "   Projected Rd  Projected Pk  Team Score  \n",
       "0             1             7           0  \n",
       "1             2            53           0  \n",
       "2             1            26           0  \n",
       "3             1            17           0  \n",
       "4             2            31           0  \n",
       "\n",
       "[5 rows x 46 columns]"
      ]
     },
     "execution_count": 27,
     "metadata": {},
     "output_type": "execute_result"
    }
   ],
   "source": [
    "# Add 'University' to the end of each value in the column 'schools'\n",
    "\n",
    "import pandas as pd\n",
    "\n",
    "df = pd.read_csv('../static/data/ncaa_model.csv')\n",
    "df.head()\n",
    "\n",
    "#print(df.School.to_string(index=False))"
   ]
  },
  {
   "cell_type": "code",
   "execution_count": 28,
   "metadata": {},
   "outputs": [
    {
     "data": {
      "text/plain": [
       "0               Texas\n",
       "1    Northern Arizona\n",
       "2              Auburn\n",
       "3      Oklahoma State\n",
       "4          Vanderbilt\n",
       "Name: School, dtype: object"
      ]
     },
     "execution_count": 28,
     "metadata": {},
     "output_type": "execute_result"
    }
   ],
   "source": [
    "school = df['School']\n",
    "school.head()"
   ]
  },
  {
   "cell_type": "code",
   "execution_count": 29,
   "metadata": {},
   "outputs": [
    {
     "data": {
      "text/html": [
       "<div>\n",
       "<style scoped>\n",
       "    .dataframe tbody tr th:only-of-type {\n",
       "        vertical-align: middle;\n",
       "    }\n",
       "\n",
       "    .dataframe tbody tr th {\n",
       "        vertical-align: top;\n",
       "    }\n",
       "\n",
       "    .dataframe thead th {\n",
       "        text-align: right;\n",
       "    }\n",
       "</style>\n",
       "<table border=\"1\" class=\"dataframe\">\n",
       "  <thead>\n",
       "    <tr style=\"text-align: right;\">\n",
       "      <th></th>\n",
       "      <th>School</th>\n",
       "    </tr>\n",
       "  </thead>\n",
       "  <tbody>\n",
       "    <tr>\n",
       "      <th>0</th>\n",
       "      <td>Texas</td>\n",
       "    </tr>\n",
       "    <tr>\n",
       "      <th>1</th>\n",
       "      <td>Northern Arizona</td>\n",
       "    </tr>\n",
       "    <tr>\n",
       "      <th>2</th>\n",
       "      <td>Auburn</td>\n",
       "    </tr>\n",
       "    <tr>\n",
       "      <th>3</th>\n",
       "      <td>Oklahoma State</td>\n",
       "    </tr>\n",
       "    <tr>\n",
       "      <th>4</th>\n",
       "      <td>Vanderbilt</td>\n",
       "    </tr>\n",
       "  </tbody>\n",
       "</table>\n",
       "</div>"
      ],
      "text/plain": [
       "             School\n",
       "0             Texas\n",
       "1  Northern Arizona\n",
       "2            Auburn\n",
       "3    Oklahoma State\n",
       "4        Vanderbilt"
      ]
     },
     "execution_count": 29,
     "metadata": {},
     "output_type": "execute_result"
    }
   ],
   "source": [
    "school = pd.DataFrame(school)\n",
    "school.head()"
   ]
  },
  {
   "cell_type": "code",
   "execution_count": 30,
   "metadata": {},
   "outputs": [],
   "source": [
    "school.to_csv('Schools.csv')"
   ]
  },
  {
   "cell_type": "code",
   "execution_count": 60,
   "metadata": {},
   "outputs": [
    {
     "data": {
      "text/html": [
       "<div>\n",
       "<style scoped>\n",
       "    .dataframe tbody tr th:only-of-type {\n",
       "        vertical-align: middle;\n",
       "    }\n",
       "\n",
       "    .dataframe tbody tr th {\n",
       "        vertical-align: top;\n",
       "    }\n",
       "\n",
       "    .dataframe thead th {\n",
       "        text-align: right;\n",
       "    }\n",
       "</style>\n",
       "<table border=\"1\" class=\"dataframe\">\n",
       "  <thead>\n",
       "    <tr style=\"text-align: right;\">\n",
       "      <th></th>\n",
       "      <th>School</th>\n",
       "    </tr>\n",
       "  </thead>\n",
       "  <tbody>\n",
       "    <tr>\n",
       "      <th>0</th>\n",
       "      <td>Texas University</td>\n",
       "    </tr>\n",
       "    <tr>\n",
       "      <th>1</th>\n",
       "      <td>Northern Arizona University</td>\n",
       "    </tr>\n",
       "    <tr>\n",
       "      <th>2</th>\n",
       "      <td>Auburn University</td>\n",
       "    </tr>\n",
       "    <tr>\n",
       "      <th>3</th>\n",
       "      <td>Oklahoma State University</td>\n",
       "    </tr>\n",
       "    <tr>\n",
       "      <th>4</th>\n",
       "      <td>Vanderbilt University</td>\n",
       "    </tr>\n",
       "  </tbody>\n",
       "</table>\n",
       "</div>"
      ],
      "text/plain": [
       "                        School\n",
       "0             Texas University\n",
       "1  Northern Arizona University\n",
       "2            Auburn University\n",
       "3    Oklahoma State University\n",
       "4        Vanderbilt University"
      ]
     },
     "execution_count": 60,
     "metadata": {},
     "output_type": "execute_result"
    }
   ],
   "source": [
    "unis_df = pd.read_csv('Schools+University.csv')\n",
    "unis_df.head()"
   ]
  },
  {
   "cell_type": "code",
   "execution_count": 36,
   "metadata": {},
   "outputs": [
    {
     "data": {
      "text/plain": [
       "pandas.core.series.Series"
      ]
     },
     "execution_count": 36,
     "metadata": {},
     "output_type": "execute_result"
    }
   ],
   "source": [
    "type(unis_df.School)"
   ]
  },
  {
   "cell_type": "code",
   "execution_count": 40,
   "metadata": {
    "scrolled": true
   },
   "outputs": [
    {
     "ename": "SyntaxError",
     "evalue": "invalid syntax (<ipython-input-40-98ea20c9c7a6>, line 3)",
     "output_type": "error",
     "traceback": [
      "\u001b[1;36m  File \u001b[1;32m\"<ipython-input-40-98ea20c9c7a6>\"\u001b[1;36m, line \u001b[1;32m3\u001b[0m\n\u001b[1;33m    my_schools = for school in unis_df.School:\u001b[0m\n\u001b[1;37m                   ^\u001b[0m\n\u001b[1;31mSyntaxError\u001b[0m\u001b[1;31m:\u001b[0m invalid syntax\n"
     ]
    }
   ],
   "source": [
    "# Writing the code to call the Google Api and return lat/long of each school\n",
    "\n",
    "my_schools = for school in unis_df.School:\n",
    "    print(school)\n",
    "    \n",
    "params = {\n",
    "    'query': my_schools,\n",
    "    'key': gkey\n",
    "}\n",
    "\n",
    "base_url = \"https://maps.googleapis.com/maps/api/geocode/json\"\n",
    "\n",
    "#run request\n",
    "response = requests.get(base_url, params=params)\n",
    "\n",
    "#convert to JSON\n",
    "schools_geo = response.json()\n",
    "\n",
    "#extract Lat/Long\n",
    "lat = schools_geo[\"results\"][0][\"geometry\"][\"location\"][\"lat\"]\n",
    "lng = schools_geo[\"results\"][0][\"geometry\"][\"location\"][\"lng\"]\n",
    "\n",
    "print(f\"{my_schools}: {lat}, {lng})"
   ]
  },
  {
   "cell_type": "code",
   "execution_count": 65,
   "metadata": {},
   "outputs": [],
   "source": [
    "unis_latlnglist = []\n",
    "\n",
    "for school in unis_df.School:\n",
    "    params = {\n",
    "    'address': school,\n",
    "    'key': gkey\n",
    "    }\n",
    "    \n",
    "    base_url = \"https://maps.googleapis.com/maps/api/geocode/json\"\n",
    "\n",
    "#run request\n",
    "    response = requests.get(base_url, params=params)\n",
    "\n",
    "#convert to JSON\n",
    "    schools_geo = response.json()\n",
    "    \n",
    "#extract Lat/Long\n",
    "    lat = schools_geo[\"results\"][0][\"geometry\"][\"location\"][\"lat\"]\n",
    "    lng = schools_geo[\"results\"][0][\"geometry\"][\"location\"][\"lng\"]\n",
    "\n",
    "    \n",
    "    unis_latlng = {}\n",
    "    \n",
    "    unis_latlng['School'] = school\n",
    "    unis_latlng['Lat'] = lat\n",
    "    unis_latlng['Long'] = lng\n",
    "    \n",
    "    unis_latlnglist.append(unis_latlng)\n",
    " "
   ]
  },
  {
   "cell_type": "code",
   "execution_count": 66,
   "metadata": {},
   "outputs": [
    {
     "data": {
      "text/html": [
       "<div>\n",
       "<style scoped>\n",
       "    .dataframe tbody tr th:only-of-type {\n",
       "        vertical-align: middle;\n",
       "    }\n",
       "\n",
       "    .dataframe tbody tr th {\n",
       "        vertical-align: top;\n",
       "    }\n",
       "\n",
       "    .dataframe thead th {\n",
       "        text-align: right;\n",
       "    }\n",
       "</style>\n",
       "<table border=\"1\" class=\"dataframe\">\n",
       "  <thead>\n",
       "    <tr style=\"text-align: right;\">\n",
       "      <th></th>\n",
       "      <th>Lat</th>\n",
       "      <th>Long</th>\n",
       "      <th>School</th>\n",
       "    </tr>\n",
       "  </thead>\n",
       "  <tbody>\n",
       "    <tr>\n",
       "      <th>0</th>\n",
       "      <td>30.284918</td>\n",
       "      <td>-97.734057</td>\n",
       "      <td>Texas University</td>\n",
       "    </tr>\n",
       "    <tr>\n",
       "      <th>1</th>\n",
       "      <td>35.187646</td>\n",
       "      <td>-111.654093</td>\n",
       "      <td>Northern Arizona University</td>\n",
       "    </tr>\n",
       "    <tr>\n",
       "      <th>2</th>\n",
       "      <td>32.593357</td>\n",
       "      <td>-85.495166</td>\n",
       "      <td>Auburn University</td>\n",
       "    </tr>\n",
       "    <tr>\n",
       "      <th>3</th>\n",
       "      <td>36.127024</td>\n",
       "      <td>-97.073722</td>\n",
       "      <td>Oklahoma State University</td>\n",
       "    </tr>\n",
       "    <tr>\n",
       "      <th>4</th>\n",
       "      <td>36.144703</td>\n",
       "      <td>-86.802655</td>\n",
       "      <td>Vanderbilt University</td>\n",
       "    </tr>\n",
       "  </tbody>\n",
       "</table>\n",
       "</div>"
      ],
      "text/plain": [
       "         Lat        Long                       School\n",
       "0  30.284918  -97.734057             Texas University\n",
       "1  35.187646 -111.654093  Northern Arizona University\n",
       "2  32.593357  -85.495166            Auburn University\n",
       "3  36.127024  -97.073722    Oklahoma State University\n",
       "4  36.144703  -86.802655        Vanderbilt University"
      ]
     },
     "execution_count": 66,
     "metadata": {},
     "output_type": "execute_result"
    }
   ],
   "source": [
    "unis_df = pd.DataFrame(unis_latlnglist)\n",
    "unis_df.head()"
   ]
  },
  {
   "cell_type": "code",
   "execution_count": 68,
   "metadata": {},
   "outputs": [],
   "source": [
    "unis_df.to_csv('University List with LatLong.csv')"
   ]
  },
  {
   "cell_type": "code",
   "execution_count": 74,
   "metadata": {},
   "outputs": [],
   "source": [
    "unis_df[\"School\"]= unis_df[\"School\"].str.slice(0 , -11,1)"
   ]
  },
  {
   "cell_type": "code",
   "execution_count": 75,
   "metadata": {},
   "outputs": [
    {
     "data": {
      "text/html": [
       "<div>\n",
       "<style scoped>\n",
       "    .dataframe tbody tr th:only-of-type {\n",
       "        vertical-align: middle;\n",
       "    }\n",
       "\n",
       "    .dataframe tbody tr th {\n",
       "        vertical-align: top;\n",
       "    }\n",
       "\n",
       "    .dataframe thead th {\n",
       "        text-align: right;\n",
       "    }\n",
       "</style>\n",
       "<table border=\"1\" class=\"dataframe\">\n",
       "  <thead>\n",
       "    <tr style=\"text-align: right;\">\n",
       "      <th></th>\n",
       "      <th>Lat</th>\n",
       "      <th>Long</th>\n",
       "      <th>School</th>\n",
       "    </tr>\n",
       "  </thead>\n",
       "  <tbody>\n",
       "    <tr>\n",
       "      <th>0</th>\n",
       "      <td>30.284918</td>\n",
       "      <td>-97.734057</td>\n",
       "      <td>Texas</td>\n",
       "    </tr>\n",
       "    <tr>\n",
       "      <th>1</th>\n",
       "      <td>35.187646</td>\n",
       "      <td>-111.654093</td>\n",
       "      <td>Northern Arizona</td>\n",
       "    </tr>\n",
       "    <tr>\n",
       "      <th>2</th>\n",
       "      <td>32.593357</td>\n",
       "      <td>-85.495166</td>\n",
       "      <td>Auburn</td>\n",
       "    </tr>\n",
       "    <tr>\n",
       "      <th>3</th>\n",
       "      <td>36.127024</td>\n",
       "      <td>-97.073722</td>\n",
       "      <td>Oklahoma State</td>\n",
       "    </tr>\n",
       "    <tr>\n",
       "      <th>4</th>\n",
       "      <td>36.144703</td>\n",
       "      <td>-86.802655</td>\n",
       "      <td>Vanderbilt</td>\n",
       "    </tr>\n",
       "  </tbody>\n",
       "</table>\n",
       "</div>"
      ],
      "text/plain": [
       "         Lat        Long            School\n",
       "0  30.284918  -97.734057             Texas\n",
       "1  35.187646 -111.654093  Northern Arizona\n",
       "2  32.593357  -85.495166            Auburn\n",
       "3  36.127024  -97.073722    Oklahoma State\n",
       "4  36.144703  -86.802655        Vanderbilt"
      ]
     },
     "execution_count": 75,
     "metadata": {},
     "output_type": "execute_result"
    }
   ],
   "source": [
    "unis_df.head()"
   ]
  },
  {
   "cell_type": "code",
   "execution_count": 76,
   "metadata": {},
   "outputs": [],
   "source": [
    "unis_df.to_csv('School List with LatLong.csv')"
   ]
  },
  {
   "cell_type": "code",
   "execution_count": null,
   "metadata": {},
   "outputs": [],
   "source": []
  }
 ],
 "metadata": {
  "kernelspec": {
   "display_name": "Python 3",
   "language": "python",
   "name": "python3"
  },
  "language_info": {
   "codemirror_mode": {
    "name": "ipython",
    "version": 3
   },
   "file_extension": ".py",
   "mimetype": "text/x-python",
   "name": "python",
   "nbconvert_exporter": "python",
   "pygments_lexer": "ipython3",
   "version": "3.7.1"
  }
 },
 "nbformat": 4,
 "nbformat_minor": 2
}
