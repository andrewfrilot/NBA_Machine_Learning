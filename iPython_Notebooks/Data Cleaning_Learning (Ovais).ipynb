{
 "cells": [
  {
   "cell_type": "code",
   "execution_count": 3,
   "metadata": {},
   "outputs": [],
   "source": [
    "#--Dependencies--#\n",
    "\n",
    "#-- Data Cleaning Libraries:\n",
    "import pandas as pd\n",
    "import numpy as np\n",
    "\n",
    "#-- Data Visualization Libraries:\n",
    "from matplotlib import pyplot as plt\n",
    "import seaborn as sns #--just in case we need it, probably won't\n",
    "\n",
    "\n",
    "#-- Web Scraping Libraries:\n",
    "import os\n",
    "import requests\n",
    "from bs4 import BeautifulSoup as bs\n",
    "from splinter import Browser\n"
   ]
  },
  {
   "cell_type": "code",
   "execution_count": 45,
   "metadata": {},
   "outputs": [],
   "source": [
    "#Settings for accessing Website\n",
    "\n",
    "executable_path = {\"executable_path\": \"chromedriver.exe\"}\n",
    "\n",
    "browser = Browser ('chrome', **executable_path, headless=False)\n",
    "\n"
   ]
  },
  {
   "cell_type": "code",
   "execution_count": 19,
   "metadata": {},
   "outputs": [],
   "source": [
    "#URL's for both NBA and NCAA\n",
    "\n",
    "NBA_url = \"https://www.basketball-reference.com/\"\n",
    "\n",
    "NCAA_url = \"https://www.sports-reference.com/cbb/\"\n"
   ]
  },
  {
   "cell_type": "code",
   "execution_count": 20,
   "metadata": {},
   "outputs": [],
   "source": [
    "#Create a url_list\n",
    "url_list = [NBA_url, NCAA_url]\n",
    "\n",
    "browser.visit(url_list[0])\n",
    "\n"
   ]
  },
  {
   "cell_type": "code",
   "execution_count": 41,
   "metadata": {},
   "outputs": [],
   "source": [
    "#Create empty DataFrames to merge player data"
   ]
  },
  {
   "cell_type": "code",
   "execution_count": 42,
   "metadata": {},
   "outputs": [],
   "source": [
    "#Define function for merging data (to be called in function for scraping: scrape_data) "
   ]
  },
  {
   "cell_type": "code",
   "execution_count": 46,
   "metadata": {},
   "outputs": [
    {
     "name": "stdout",
     "output_type": "stream",
     "text": [
      "NBA:https://www.basketball-reference.com/\n",
      "NCAA:https://www.sports-reference.com/cbb/\n"
     ]
    }
   ],
   "source": [
    "#Define our function for data scraping\n",
    "\n",
    "def scrape_data(our_urls):\n",
    "\n",
    "    for url in our_urls:\n",
    "        if url == NBA_url:\n",
    "            print(f\"NBA:{url}\")\n",
    "            browser.visit(url)\n",
    "            browser.html\n",
    "        else:\n",
    "            print(f\"NCAA:{url}\")\n",
    "            browser.visit(url)\n",
    "            browser.html\n",
    "        \n",
    "scrape_data(url_list)"
   ]
  },
  {
   "cell_type": "code",
   "execution_count": null,
   "metadata": {},
   "outputs": [],
   "source": []
  }
 ],
 "metadata": {
  "kernelspec": {
   "display_name": "Python 3",
   "language": "python",
   "name": "python3"
  },
  "language_info": {
   "codemirror_mode": {
    "name": "ipython",
    "version": 3
   },
   "file_extension": ".py",
   "mimetype": "text/x-python",
   "name": "python",
   "nbconvert_exporter": "python",
   "pygments_lexer": "ipython3",
   "version": "3.7.1"
  }
 },
 "nbformat": 4,
 "nbformat_minor": 2
}
