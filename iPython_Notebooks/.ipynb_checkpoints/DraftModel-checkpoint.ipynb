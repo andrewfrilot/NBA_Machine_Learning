{
 "cells": [
  {
   "cell_type": "code",
   "execution_count": 491,
   "metadata": {},
   "outputs": [],
   "source": [
    "import pandas as pd\n",
    "import sklearn.model_selection as model_selection\n",
    "from sklearn.linear_model import LinearRegression\n",
    "from sklearn.linear_model import Ridge\n",
    "from sklearn import linear_model\n",
    "from sklearn.svm import SVR\n",
    "from sklearn.model_selection import train_test_split\n",
    "from sklearn import preprocessing\n",
    "from sklearn import metrics\n",
    "from sklearn.neural_network import MLPRegressor\n",
    "from sklearn.model_selection import cross_val_predict, cross_validate\n",
    "from sklearn.preprocessing import StandardScaler\n",
    "import matplotlib.pyplot as plt\n",
    "import numpy as np\n",
    "from sklearn.metrics import mean_squared_error\n",
    "import warnings\n",
    "warnings.filterwarnings(action='ignore')"
   ]
  },
  {
   "cell_type": "code",
   "execution_count": 492,
   "metadata": {},
   "outputs": [],
   "source": [
    "#pd.options.display.f"
   ]
  },
  {
   "cell_type": "code",
   "execution_count": 493,
   "metadata": {},
   "outputs": [
    {
     "data": {
      "text/html": [
       "<div>\n",
       "<style scoped>\n",
       "    .dataframe tbody tr th:only-of-type {\n",
       "        vertical-align: middle;\n",
       "    }\n",
       "\n",
       "    .dataframe tbody tr th {\n",
       "        vertical-align: top;\n",
       "    }\n",
       "\n",
       "    .dataframe thead th {\n",
       "        text-align: right;\n",
       "    }\n",
       "</style>\n",
       "<table border=\"1\" class=\"dataframe\">\n",
       "  <thead>\n",
       "    <tr style=\"text-align: right;\">\n",
       "      <th></th>\n",
       "      <th>Player</th>\n",
       "      <th>Class</th>\n",
       "      <th>Season</th>\n",
       "      <th>Pos</th>\n",
       "      <th>School</th>\n",
       "      <th>Conf</th>\n",
       "      <th>G</th>\n",
       "      <th>MP</th>\n",
       "      <th>FG</th>\n",
       "      <th>FGA</th>\n",
       "      <th>...</th>\n",
       "      <th>Rupp Trophy</th>\n",
       "      <th>Sporting News Player of the Year</th>\n",
       "      <th>UPI Player of the Year</th>\n",
       "      <th>USBWA Freshman of the Year</th>\n",
       "      <th>Year Drafted</th>\n",
       "      <th>Rd</th>\n",
       "      <th>Pk</th>\n",
       "      <th>Tm</th>\n",
       "      <th>Projected Pk</th>\n",
       "      <th>Team Score</th>\n",
       "    </tr>\n",
       "  </thead>\n",
       "  <tbody>\n",
       "    <tr>\n",
       "      <th>0</th>\n",
       "      <td>Joe Adkins</td>\n",
       "      <td>JR</td>\n",
       "      <td>1999</td>\n",
       "      <td>G</td>\n",
       "      <td>Oklahoma State</td>\n",
       "      <td>Big 12</td>\n",
       "      <td>33</td>\n",
       "      <td>27.697</td>\n",
       "      <td>3.242</td>\n",
       "      <td>8.606</td>\n",
       "      <td>...</td>\n",
       "      <td>0</td>\n",
       "      <td>0</td>\n",
       "      <td>0</td>\n",
       "      <td>0</td>\n",
       "      <td>0</td>\n",
       "      <td>0</td>\n",
       "      <td>0</td>\n",
       "      <td>NaN</td>\n",
       "      <td>0</td>\n",
       "      <td>0</td>\n",
       "    </tr>\n",
       "    <tr>\n",
       "      <th>1</th>\n",
       "      <td>Brian Montonati</td>\n",
       "      <td>JR</td>\n",
       "      <td>1999</td>\n",
       "      <td>F</td>\n",
       "      <td>Oklahoma State</td>\n",
       "      <td>Big 12</td>\n",
       "      <td>34</td>\n",
       "      <td>18.000</td>\n",
       "      <td>2.500</td>\n",
       "      <td>4.912</td>\n",
       "      <td>...</td>\n",
       "      <td>0</td>\n",
       "      <td>0</td>\n",
       "      <td>0</td>\n",
       "      <td>0</td>\n",
       "      <td>0</td>\n",
       "      <td>0</td>\n",
       "      <td>0</td>\n",
       "      <td>NaN</td>\n",
       "      <td>0</td>\n",
       "      <td>0</td>\n",
       "    </tr>\n",
       "    <tr>\n",
       "      <th>2</th>\n",
       "      <td>Jerome Moiso</td>\n",
       "      <td>FR</td>\n",
       "      <td>1999</td>\n",
       "      <td>F</td>\n",
       "      <td>UCLA</td>\n",
       "      <td>Pac-10</td>\n",
       "      <td>29</td>\n",
       "      <td>23.759</td>\n",
       "      <td>4.517</td>\n",
       "      <td>9.276</td>\n",
       "      <td>...</td>\n",
       "      <td>0</td>\n",
       "      <td>0</td>\n",
       "      <td>0</td>\n",
       "      <td>0</td>\n",
       "      <td>0</td>\n",
       "      <td>0</td>\n",
       "      <td>0</td>\n",
       "      <td>NaN</td>\n",
       "      <td>0</td>\n",
       "      <td>0</td>\n",
       "    </tr>\n",
       "    <tr>\n",
       "      <th>3</th>\n",
       "      <td>Jason Miskiri</td>\n",
       "      <td>SR</td>\n",
       "      <td>1999</td>\n",
       "      <td>G</td>\n",
       "      <td>George Mason</td>\n",
       "      <td>CAA</td>\n",
       "      <td>29</td>\n",
       "      <td>34.345</td>\n",
       "      <td>5.414</td>\n",
       "      <td>13.552</td>\n",
       "      <td>...</td>\n",
       "      <td>0</td>\n",
       "      <td>0</td>\n",
       "      <td>0</td>\n",
       "      <td>0</td>\n",
       "      <td>0</td>\n",
       "      <td>0</td>\n",
       "      <td>0</td>\n",
       "      <td>NaN</td>\n",
       "      <td>0</td>\n",
       "      <td>0</td>\n",
       "    </tr>\n",
       "    <tr>\n",
       "      <th>4</th>\n",
       "      <td>Andre Miller</td>\n",
       "      <td>SR</td>\n",
       "      <td>1999</td>\n",
       "      <td>G</td>\n",
       "      <td>Utah</td>\n",
       "      <td>WAC</td>\n",
       "      <td>33</td>\n",
       "      <td>33.091</td>\n",
       "      <td>5.758</td>\n",
       "      <td>11.727</td>\n",
       "      <td>...</td>\n",
       "      <td>0</td>\n",
       "      <td>0</td>\n",
       "      <td>0</td>\n",
       "      <td>0</td>\n",
       "      <td>0</td>\n",
       "      <td>0</td>\n",
       "      <td>0</td>\n",
       "      <td>NaN</td>\n",
       "      <td>0</td>\n",
       "      <td>0</td>\n",
       "    </tr>\n",
       "  </tbody>\n",
       "</table>\n",
       "<p>5 rows × 44 columns</p>\n",
       "</div>"
      ],
      "text/plain": [
       "            Player Class  Season Pos          School    Conf   G      MP  \\\n",
       "0       Joe Adkins    JR    1999   G  Oklahoma State  Big 12  33  27.697   \n",
       "1  Brian Montonati    JR    1999   F  Oklahoma State  Big 12  34  18.000   \n",
       "2     Jerome Moiso    FR    1999   F            UCLA  Pac-10  29  23.759   \n",
       "3    Jason Miskiri    SR    1999   G    George Mason     CAA  29  34.345   \n",
       "4     Andre Miller    SR    1999   G            Utah     WAC  33  33.091   \n",
       "\n",
       "      FG     FGA  ...  Rupp Trophy  Sporting News Player of the Year  \\\n",
       "0  3.242   8.606  ...            0                                 0   \n",
       "1  2.500   4.912  ...            0                                 0   \n",
       "2  4.517   9.276  ...            0                                 0   \n",
       "3  5.414  13.552  ...            0                                 0   \n",
       "4  5.758  11.727  ...            0                                 0   \n",
       "\n",
       "   UPI Player of the Year  USBWA Freshman of the Year  Year Drafted  Rd  Pk  \\\n",
       "0                       0                           0             0   0   0   \n",
       "1                       0                           0             0   0   0   \n",
       "2                       0                           0             0   0   0   \n",
       "3                       0                           0             0   0   0   \n",
       "4                       0                           0             0   0   0   \n",
       "\n",
       "    Tm  Projected Pk  Team Score  \n",
       "0  NaN             0           0  \n",
       "1  NaN             0           0  \n",
       "2  NaN             0           0  \n",
       "3  NaN             0           0  \n",
       "4  NaN             0           0  \n",
       "\n",
       "[5 rows x 44 columns]"
      ]
     },
     "execution_count": 493,
     "metadata": {},
     "output_type": "execute_result"
    }
   ],
   "source": [
    "#Importing NCAA and draft merge data\n",
    "ncaa_draft_alldata = pd.read_csv('../static/data/ncaa_model_in.csv')\n",
    "ncaa_draft_alldata.head()"
   ]
  },
  {
   "cell_type": "code",
   "execution_count": 494,
   "metadata": {},
   "outputs": [
    {
     "data": {
      "text/html": [
       "<div>\n",
       "<style scoped>\n",
       "    .dataframe tbody tr th:only-of-type {\n",
       "        vertical-align: middle;\n",
       "    }\n",
       "\n",
       "    .dataframe tbody tr th {\n",
       "        vertical-align: top;\n",
       "    }\n",
       "\n",
       "    .dataframe thead th {\n",
       "        text-align: right;\n",
       "    }\n",
       "</style>\n",
       "<table border=\"1\" class=\"dataframe\">\n",
       "  <thead>\n",
       "    <tr style=\"text-align: right;\">\n",
       "      <th></th>\n",
       "      <th>Player</th>\n",
       "      <th>Class</th>\n",
       "      <th>Season</th>\n",
       "      <th>Pos</th>\n",
       "      <th>School</th>\n",
       "      <th>Conf</th>\n",
       "      <th>G</th>\n",
       "      <th>MP</th>\n",
       "      <th>FG</th>\n",
       "      <th>FGA</th>\n",
       "      <th>...</th>\n",
       "      <th>Rupp Trophy</th>\n",
       "      <th>Sporting News Player of the Year</th>\n",
       "      <th>UPI Player of the Year</th>\n",
       "      <th>USBWA Freshman of the Year</th>\n",
       "      <th>Year Drafted</th>\n",
       "      <th>Rd</th>\n",
       "      <th>Pk</th>\n",
       "      <th>Tm</th>\n",
       "      <th>Projected Pk</th>\n",
       "      <th>Team Score</th>\n",
       "    </tr>\n",
       "  </thead>\n",
       "  <tbody>\n",
       "    <tr>\n",
       "      <th>0</th>\n",
       "      <td>Joe Adkins</td>\n",
       "      <td>JR</td>\n",
       "      <td>1999</td>\n",
       "      <td>G</td>\n",
       "      <td>Oklahoma State</td>\n",
       "      <td>Big 12</td>\n",
       "      <td>33</td>\n",
       "      <td>27.697</td>\n",
       "      <td>3.242</td>\n",
       "      <td>8.606</td>\n",
       "      <td>...</td>\n",
       "      <td>0</td>\n",
       "      <td>0</td>\n",
       "      <td>0</td>\n",
       "      <td>0</td>\n",
       "      <td>0</td>\n",
       "      <td>0</td>\n",
       "      <td>61</td>\n",
       "      <td></td>\n",
       "      <td>61</td>\n",
       "      <td>0</td>\n",
       "    </tr>\n",
       "    <tr>\n",
       "      <th>1</th>\n",
       "      <td>Brian Montonati</td>\n",
       "      <td>JR</td>\n",
       "      <td>1999</td>\n",
       "      <td>F</td>\n",
       "      <td>Oklahoma State</td>\n",
       "      <td>Big 12</td>\n",
       "      <td>34</td>\n",
       "      <td>18.000</td>\n",
       "      <td>2.500</td>\n",
       "      <td>4.912</td>\n",
       "      <td>...</td>\n",
       "      <td>0</td>\n",
       "      <td>0</td>\n",
       "      <td>0</td>\n",
       "      <td>0</td>\n",
       "      <td>0</td>\n",
       "      <td>0</td>\n",
       "      <td>61</td>\n",
       "      <td></td>\n",
       "      <td>61</td>\n",
       "      <td>0</td>\n",
       "    </tr>\n",
       "    <tr>\n",
       "      <th>2</th>\n",
       "      <td>Jerome Moiso</td>\n",
       "      <td>FR</td>\n",
       "      <td>1999</td>\n",
       "      <td>F</td>\n",
       "      <td>UCLA</td>\n",
       "      <td>Pac-10</td>\n",
       "      <td>29</td>\n",
       "      <td>23.759</td>\n",
       "      <td>4.517</td>\n",
       "      <td>9.276</td>\n",
       "      <td>...</td>\n",
       "      <td>0</td>\n",
       "      <td>0</td>\n",
       "      <td>0</td>\n",
       "      <td>0</td>\n",
       "      <td>0</td>\n",
       "      <td>0</td>\n",
       "      <td>61</td>\n",
       "      <td></td>\n",
       "      <td>61</td>\n",
       "      <td>0</td>\n",
       "    </tr>\n",
       "    <tr>\n",
       "      <th>3</th>\n",
       "      <td>Jason Miskiri</td>\n",
       "      <td>SR</td>\n",
       "      <td>1999</td>\n",
       "      <td>G</td>\n",
       "      <td>George Mason</td>\n",
       "      <td>CAA</td>\n",
       "      <td>29</td>\n",
       "      <td>34.345</td>\n",
       "      <td>5.414</td>\n",
       "      <td>13.552</td>\n",
       "      <td>...</td>\n",
       "      <td>0</td>\n",
       "      <td>0</td>\n",
       "      <td>0</td>\n",
       "      <td>0</td>\n",
       "      <td>0</td>\n",
       "      <td>0</td>\n",
       "      <td>61</td>\n",
       "      <td></td>\n",
       "      <td>61</td>\n",
       "      <td>0</td>\n",
       "    </tr>\n",
       "    <tr>\n",
       "      <th>4</th>\n",
       "      <td>Andre Miller</td>\n",
       "      <td>SR</td>\n",
       "      <td>1999</td>\n",
       "      <td>G</td>\n",
       "      <td>Utah</td>\n",
       "      <td>WAC</td>\n",
       "      <td>33</td>\n",
       "      <td>33.091</td>\n",
       "      <td>5.758</td>\n",
       "      <td>11.727</td>\n",
       "      <td>...</td>\n",
       "      <td>0</td>\n",
       "      <td>0</td>\n",
       "      <td>0</td>\n",
       "      <td>0</td>\n",
       "      <td>0</td>\n",
       "      <td>0</td>\n",
       "      <td>61</td>\n",
       "      <td></td>\n",
       "      <td>61</td>\n",
       "      <td>0</td>\n",
       "    </tr>\n",
       "    <tr>\n",
       "      <th>5</th>\n",
       "      <td>Chris Mihm</td>\n",
       "      <td>SO</td>\n",
       "      <td>1999</td>\n",
       "      <td>C</td>\n",
       "      <td>Texas</td>\n",
       "      <td>Big 12</td>\n",
       "      <td>32</td>\n",
       "      <td>32.094</td>\n",
       "      <td>4.500</td>\n",
       "      <td>10.031</td>\n",
       "      <td>...</td>\n",
       "      <td>0</td>\n",
       "      <td>0</td>\n",
       "      <td>0</td>\n",
       "      <td>0</td>\n",
       "      <td>2000</td>\n",
       "      <td>1</td>\n",
       "      <td>7</td>\n",
       "      <td>CHI</td>\n",
       "      <td>7</td>\n",
       "      <td>0</td>\n",
       "    </tr>\n",
       "    <tr>\n",
       "      <th>6</th>\n",
       "      <td>Greg McQuay</td>\n",
       "      <td>JR</td>\n",
       "      <td>1999</td>\n",
       "      <td>C</td>\n",
       "      <td>Purdue</td>\n",
       "      <td>Big Ten</td>\n",
       "      <td>33</td>\n",
       "      <td>25.545</td>\n",
       "      <td>4.182</td>\n",
       "      <td>7.364</td>\n",
       "      <td>...</td>\n",
       "      <td>0</td>\n",
       "      <td>0</td>\n",
       "      <td>0</td>\n",
       "      <td>0</td>\n",
       "      <td>0</td>\n",
       "      <td>0</td>\n",
       "      <td>61</td>\n",
       "      <td></td>\n",
       "      <td>61</td>\n",
       "      <td>0</td>\n",
       "    </tr>\n",
       "    <tr>\n",
       "      <th>7</th>\n",
       "      <td>Dan McClintock</td>\n",
       "      <td>JR</td>\n",
       "      <td>1999</td>\n",
       "      <td>C</td>\n",
       "      <td>Northern Arizona</td>\n",
       "      <td>Big Sky</td>\n",
       "      <td>27</td>\n",
       "      <td>16.741</td>\n",
       "      <td>4.630</td>\n",
       "      <td>6.926</td>\n",
       "      <td>...</td>\n",
       "      <td>0</td>\n",
       "      <td>0</td>\n",
       "      <td>0</td>\n",
       "      <td>0</td>\n",
       "      <td>2000</td>\n",
       "      <td>2</td>\n",
       "      <td>53</td>\n",
       "      <td>DEN</td>\n",
       "      <td>53</td>\n",
       "      <td>0</td>\n",
       "    </tr>\n",
       "  </tbody>\n",
       "</table>\n",
       "<p>8 rows × 44 columns</p>\n",
       "</div>"
      ],
      "text/plain": [
       "            Player Class  Season Pos            School     Conf   G      MP  \\\n",
       "0       Joe Adkins    JR    1999   G    Oklahoma State   Big 12  33  27.697   \n",
       "1  Brian Montonati    JR    1999   F    Oklahoma State   Big 12  34  18.000   \n",
       "2     Jerome Moiso    FR    1999   F              UCLA   Pac-10  29  23.759   \n",
       "3    Jason Miskiri    SR    1999   G      George Mason      CAA  29  34.345   \n",
       "4     Andre Miller    SR    1999   G              Utah      WAC  33  33.091   \n",
       "5       Chris Mihm    SO    1999   C             Texas   Big 12  32  32.094   \n",
       "6      Greg McQuay    JR    1999   C            Purdue  Big Ten  33  25.545   \n",
       "7   Dan McClintock    JR    1999   C  Northern Arizona  Big Sky  27  16.741   \n",
       "\n",
       "      FG     FGA  ...  Rupp Trophy  Sporting News Player of the Year  \\\n",
       "0  3.242   8.606  ...            0                                 0   \n",
       "1  2.500   4.912  ...            0                                 0   \n",
       "2  4.517   9.276  ...            0                                 0   \n",
       "3  5.414  13.552  ...            0                                 0   \n",
       "4  5.758  11.727  ...            0                                 0   \n",
       "5  4.500  10.031  ...            0                                 0   \n",
       "6  4.182   7.364  ...            0                                 0   \n",
       "7  4.630   6.926  ...            0                                 0   \n",
       "\n",
       "   UPI Player of the Year  USBWA Freshman of the Year  Year Drafted  Rd  Pk  \\\n",
       "0                       0                           0             0   0  61   \n",
       "1                       0                           0             0   0  61   \n",
       "2                       0                           0             0   0  61   \n",
       "3                       0                           0             0   0  61   \n",
       "4                       0                           0             0   0  61   \n",
       "5                       0                           0          2000   1   7   \n",
       "6                       0                           0             0   0  61   \n",
       "7                       0                           0          2000   2  53   \n",
       "\n",
       "    Tm  Projected Pk  Team Score  \n",
       "0                 61           0  \n",
       "1                 61           0  \n",
       "2                 61           0  \n",
       "3                 61           0  \n",
       "4                 61           0  \n",
       "5  CHI             7           0  \n",
       "6                 61           0  \n",
       "7  DEN            53           0  \n",
       "\n",
       "[8 rows x 44 columns]"
      ]
     },
     "execution_count": 494,
     "metadata": {},
     "output_type": "execute_result"
    }
   ],
   "source": [
    "# Cleaning data -- Replacing undrafted players with pick 61 and team to blank\n",
    "ncaa_draft_alldata['Pk'].replace(0, 61,inplace=True)\n",
    "ncaa_draft_alldata['Projected Pk'].replace(0, 61,inplace=True)\n",
    "ncaa_draft_alldata.Tm = ncaa_draft_alldata.Tm.fillna('')\n",
    "ncaa_draft_alldata.head(8)"
   ]
  },
  {
   "cell_type": "code",
   "execution_count": 495,
   "metadata": {},
   "outputs": [
    {
     "data": {
      "text/plain": [
       "31896"
      ]
     },
     "execution_count": 495,
     "metadata": {},
     "output_type": "execute_result"
    }
   ],
   "source": [
    "# number of rows\n",
    "ncaa_draft_alldata.shape[0]"
   ]
  },
  {
   "cell_type": "code",
   "execution_count": 496,
   "metadata": {},
   "outputs": [
    {
     "data": {
      "text/plain": [
       "30625"
      ]
     },
     "execution_count": 496,
     "metadata": {},
     "output_type": "execute_result"
    }
   ],
   "source": [
    "# deleting rows on PER less than 0 and undrafted \n",
    "delete_perlessthan0 = ncaa_draft_alldata[(ncaa_draft_alldata.PER < 0) & (ncaa_draft_alldata.Pk == 61)].index\n",
    "ncaa_draft_alldata.drop(delete_perlessthan0 , inplace=True)\n",
    "ncaa_draft_alldata.shape[0]"
   ]
  },
  {
   "cell_type": "code",
   "execution_count": 497,
   "metadata": {},
   "outputs": [
    {
     "data": {
      "text/plain": [
       "30362"
      ]
     },
     "execution_count": 497,
     "metadata": {},
     "output_type": "execute_result"
    }
   ],
   "source": [
    "# deleting rows on PER greater than 50 and undrafted \n",
    "delete_pergreaterthan50=ncaa_draft_alldata[(ncaa_draft_alldata.PER > 40) & (ncaa_draft_alldata.Pk == 61)].index\n",
    "ncaa_draft_alldata.drop(delete_pergreaterthan50 , inplace=True)\n",
    "ncaa_draft_alldata.shape[0]"
   ]
  },
  {
   "cell_type": "code",
   "execution_count": 498,
   "metadata": {},
   "outputs": [
    {
     "data": {
      "text/html": [
       "<div>\n",
       "<style scoped>\n",
       "    .dataframe tbody tr th:only-of-type {\n",
       "        vertical-align: middle;\n",
       "    }\n",
       "\n",
       "    .dataframe tbody tr th {\n",
       "        vertical-align: top;\n",
       "    }\n",
       "\n",
       "    .dataframe thead th {\n",
       "        text-align: right;\n",
       "    }\n",
       "</style>\n",
       "<table border=\"1\" class=\"dataframe\">\n",
       "  <thead>\n",
       "    <tr style=\"text-align: right;\">\n",
       "      <th></th>\n",
       "      <th>Player</th>\n",
       "      <th>Class</th>\n",
       "      <th>Season</th>\n",
       "      <th>Pos</th>\n",
       "      <th>School</th>\n",
       "      <th>Conf</th>\n",
       "      <th>G</th>\n",
       "      <th>MP</th>\n",
       "      <th>FG</th>\n",
       "      <th>FGA</th>\n",
       "      <th>...</th>\n",
       "      <th>Rupp Trophy</th>\n",
       "      <th>Sporting News Player of the Year</th>\n",
       "      <th>UPI Player of the Year</th>\n",
       "      <th>USBWA Freshman of the Year</th>\n",
       "      <th>Year Drafted</th>\n",
       "      <th>Rd</th>\n",
       "      <th>Pk</th>\n",
       "      <th>Tm</th>\n",
       "      <th>Projected Pk</th>\n",
       "      <th>Team Score</th>\n",
       "    </tr>\n",
       "  </thead>\n",
       "  <tbody>\n",
       "    <tr>\n",
       "      <th>0</th>\n",
       "      <td>Joe Adkins</td>\n",
       "      <td>JR</td>\n",
       "      <td>1999</td>\n",
       "      <td>G</td>\n",
       "      <td>Oklahoma State</td>\n",
       "      <td>Big 12</td>\n",
       "      <td>33</td>\n",
       "      <td>27.697</td>\n",
       "      <td>3.242</td>\n",
       "      <td>8.606</td>\n",
       "      <td>...</td>\n",
       "      <td>0</td>\n",
       "      <td>0</td>\n",
       "      <td>0</td>\n",
       "      <td>0</td>\n",
       "      <td>0</td>\n",
       "      <td>0</td>\n",
       "      <td>61</td>\n",
       "      <td></td>\n",
       "      <td>61</td>\n",
       "      <td>0</td>\n",
       "    </tr>\n",
       "    <tr>\n",
       "      <th>1</th>\n",
       "      <td>Brian Montonati</td>\n",
       "      <td>JR</td>\n",
       "      <td>1999</td>\n",
       "      <td>F</td>\n",
       "      <td>Oklahoma State</td>\n",
       "      <td>Big 12</td>\n",
       "      <td>34</td>\n",
       "      <td>18.000</td>\n",
       "      <td>2.500</td>\n",
       "      <td>4.912</td>\n",
       "      <td>...</td>\n",
       "      <td>0</td>\n",
       "      <td>0</td>\n",
       "      <td>0</td>\n",
       "      <td>0</td>\n",
       "      <td>0</td>\n",
       "      <td>0</td>\n",
       "      <td>61</td>\n",
       "      <td></td>\n",
       "      <td>61</td>\n",
       "      <td>0</td>\n",
       "    </tr>\n",
       "    <tr>\n",
       "      <th>2</th>\n",
       "      <td>Jerome Moiso</td>\n",
       "      <td>FR</td>\n",
       "      <td>1999</td>\n",
       "      <td>F</td>\n",
       "      <td>UCLA</td>\n",
       "      <td>Pac-10</td>\n",
       "      <td>29</td>\n",
       "      <td>23.759</td>\n",
       "      <td>4.517</td>\n",
       "      <td>9.276</td>\n",
       "      <td>...</td>\n",
       "      <td>0</td>\n",
       "      <td>0</td>\n",
       "      <td>0</td>\n",
       "      <td>0</td>\n",
       "      <td>0</td>\n",
       "      <td>0</td>\n",
       "      <td>61</td>\n",
       "      <td></td>\n",
       "      <td>61</td>\n",
       "      <td>0</td>\n",
       "    </tr>\n",
       "    <tr>\n",
       "      <th>3</th>\n",
       "      <td>Jason Miskiri</td>\n",
       "      <td>SR</td>\n",
       "      <td>1999</td>\n",
       "      <td>G</td>\n",
       "      <td>George Mason</td>\n",
       "      <td>CAA</td>\n",
       "      <td>29</td>\n",
       "      <td>34.345</td>\n",
       "      <td>5.414</td>\n",
       "      <td>13.552</td>\n",
       "      <td>...</td>\n",
       "      <td>0</td>\n",
       "      <td>0</td>\n",
       "      <td>0</td>\n",
       "      <td>0</td>\n",
       "      <td>0</td>\n",
       "      <td>0</td>\n",
       "      <td>61</td>\n",
       "      <td></td>\n",
       "      <td>61</td>\n",
       "      <td>0</td>\n",
       "    </tr>\n",
       "    <tr>\n",
       "      <th>4</th>\n",
       "      <td>Andre Miller</td>\n",
       "      <td>SR</td>\n",
       "      <td>1999</td>\n",
       "      <td>G</td>\n",
       "      <td>Utah</td>\n",
       "      <td>WAC</td>\n",
       "      <td>33</td>\n",
       "      <td>33.091</td>\n",
       "      <td>5.758</td>\n",
       "      <td>11.727</td>\n",
       "      <td>...</td>\n",
       "      <td>0</td>\n",
       "      <td>0</td>\n",
       "      <td>0</td>\n",
       "      <td>0</td>\n",
       "      <td>0</td>\n",
       "      <td>0</td>\n",
       "      <td>61</td>\n",
       "      <td></td>\n",
       "      <td>61</td>\n",
       "      <td>0</td>\n",
       "    </tr>\n",
       "    <tr>\n",
       "      <th>5</th>\n",
       "      <td>Chris Mihm</td>\n",
       "      <td>SO</td>\n",
       "      <td>1999</td>\n",
       "      <td>C</td>\n",
       "      <td>Texas</td>\n",
       "      <td>Big 12</td>\n",
       "      <td>32</td>\n",
       "      <td>32.094</td>\n",
       "      <td>4.500</td>\n",
       "      <td>10.031</td>\n",
       "      <td>...</td>\n",
       "      <td>0</td>\n",
       "      <td>0</td>\n",
       "      <td>0</td>\n",
       "      <td>0</td>\n",
       "      <td>2000</td>\n",
       "      <td>1</td>\n",
       "      <td>7</td>\n",
       "      <td>CHI</td>\n",
       "      <td>7</td>\n",
       "      <td>0</td>\n",
       "    </tr>\n",
       "    <tr>\n",
       "      <th>6</th>\n",
       "      <td>Greg McQuay</td>\n",
       "      <td>JR</td>\n",
       "      <td>1999</td>\n",
       "      <td>C</td>\n",
       "      <td>Purdue</td>\n",
       "      <td>Big Ten</td>\n",
       "      <td>33</td>\n",
       "      <td>25.545</td>\n",
       "      <td>4.182</td>\n",
       "      <td>7.364</td>\n",
       "      <td>...</td>\n",
       "      <td>0</td>\n",
       "      <td>0</td>\n",
       "      <td>0</td>\n",
       "      <td>0</td>\n",
       "      <td>0</td>\n",
       "      <td>0</td>\n",
       "      <td>61</td>\n",
       "      <td></td>\n",
       "      <td>61</td>\n",
       "      <td>0</td>\n",
       "    </tr>\n",
       "    <tr>\n",
       "      <th>7</th>\n",
       "      <td>Dan McClintock</td>\n",
       "      <td>JR</td>\n",
       "      <td>1999</td>\n",
       "      <td>C</td>\n",
       "      <td>Northern Arizona</td>\n",
       "      <td>Big Sky</td>\n",
       "      <td>27</td>\n",
       "      <td>16.741</td>\n",
       "      <td>4.630</td>\n",
       "      <td>6.926</td>\n",
       "      <td>...</td>\n",
       "      <td>0</td>\n",
       "      <td>0</td>\n",
       "      <td>0</td>\n",
       "      <td>0</td>\n",
       "      <td>2000</td>\n",
       "      <td>2</td>\n",
       "      <td>53</td>\n",
       "      <td>DEN</td>\n",
       "      <td>53</td>\n",
       "      <td>0</td>\n",
       "    </tr>\n",
       "  </tbody>\n",
       "</table>\n",
       "<p>8 rows × 44 columns</p>\n",
       "</div>"
      ],
      "text/plain": [
       "            Player Class  Season Pos            School     Conf   G      MP  \\\n",
       "0       Joe Adkins    JR    1999   G    Oklahoma State   Big 12  33  27.697   \n",
       "1  Brian Montonati    JR    1999   F    Oklahoma State   Big 12  34  18.000   \n",
       "2     Jerome Moiso    FR    1999   F              UCLA   Pac-10  29  23.759   \n",
       "3    Jason Miskiri    SR    1999   G      George Mason      CAA  29  34.345   \n",
       "4     Andre Miller    SR    1999   G              Utah      WAC  33  33.091   \n",
       "5       Chris Mihm    SO    1999   C             Texas   Big 12  32  32.094   \n",
       "6      Greg McQuay    JR    1999   C            Purdue  Big Ten  33  25.545   \n",
       "7   Dan McClintock    JR    1999   C  Northern Arizona  Big Sky  27  16.741   \n",
       "\n",
       "      FG     FGA  ...  Rupp Trophy  Sporting News Player of the Year  \\\n",
       "0  3.242   8.606  ...            0                                 0   \n",
       "1  2.500   4.912  ...            0                                 0   \n",
       "2  4.517   9.276  ...            0                                 0   \n",
       "3  5.414  13.552  ...            0                                 0   \n",
       "4  5.758  11.727  ...            0                                 0   \n",
       "5  4.500  10.031  ...            0                                 0   \n",
       "6  4.182   7.364  ...            0                                 0   \n",
       "7  4.630   6.926  ...            0                                 0   \n",
       "\n",
       "   UPI Player of the Year  USBWA Freshman of the Year  Year Drafted  Rd  Pk  \\\n",
       "0                       0                           0             0   0  61   \n",
       "1                       0                           0             0   0  61   \n",
       "2                       0                           0             0   0  61   \n",
       "3                       0                           0             0   0  61   \n",
       "4                       0                           0             0   0  61   \n",
       "5                       0                           0          2000   1   7   \n",
       "6                       0                           0             0   0  61   \n",
       "7                       0                           0          2000   2  53   \n",
       "\n",
       "    Tm  Projected Pk  Team Score  \n",
       "0                 61           0  \n",
       "1                 61           0  \n",
       "2                 61           0  \n",
       "3                 61           0  \n",
       "4                 61           0  \n",
       "5  CHI             7           0  \n",
       "6                 61           0  \n",
       "7  DEN            53           0  \n",
       "\n",
       "[8 rows x 44 columns]"
      ]
     },
     "execution_count": 498,
     "metadata": {},
     "output_type": "execute_result"
    }
   ],
   "source": [
    "ncaa_draft_alldata.head(8)"
   ]
  },
  {
   "cell_type": "markdown",
   "metadata": {},
   "source": [
    "Modeling\n"
   ]
  },
  {
   "cell_type": "code",
   "execution_count": 499,
   "metadata": {},
   "outputs": [],
   "source": [
    "#columns:\n",
    "#Player,Class,Season,Pos,School,Conf,G,MP,FG,FGA,2P,2PA,3P,3PA,FT,FTA,ORB,DRB,TRB,AST,STL,BLK,\n",
    "#TOV,PF,PTS,PER,eFG%,WS,AP Player of the Year,NABC Defensive Player of the Year,NABC Player of the Year,\n",
    "#Naismith Award,NCAA Tournament Most Outstanding Player,NIT Most Valuable Player,Rupp Trophy,\n",
    "#Sporting News Player of the Year,UPI Player of the Year,USBWA Freshman of the Year,Year Drafted,Rd,Pk,Tm,,Projected Pk,Team Score"
   ]
  },
  {
   "cell_type": "code",
   "execution_count": 500,
   "metadata": {},
   "outputs": [],
   "source": [
    "#features  33\n",
    "#G,MP,FG,FGA,2P,2PA,3P,3PA,FT,FTA,ORB,DRB,TRB,AST,STL,BLK,\n",
    "#TOV,PF,PTS,PER,eFG%,WS,AP Player of the Year,NABC Defensive Player of the Year,NABC Player of the Year,\n",
    "#Naismith Award,NCAA Tournament Most Outstanding Player,NIT Most Valuable Player,Rupp Trophy,\n",
    "#Sporting News Player of the Year,UPI Player of the Year,USBWA Freshman of the Year,Pk"
   ]
  },
  {
   "cell_type": "code",
   "execution_count": 501,
   "metadata": {},
   "outputs": [],
   "source": [
    "ncaa_draft_alldata = ncaa_draft_alldata[(ncaa_draft_alldata.Pk !=61)]"
   ]
  },
  {
   "cell_type": "code",
   "execution_count": 502,
   "metadata": {},
   "outputs": [],
   "source": [
    "ncaa_draft_data_19992005 = ncaa_draft_alldata[(ncaa_draft_alldata.Season >= 1999) & (ncaa_draft_alldata.Season < 2005)]"
   ]
  },
  {
   "cell_type": "code",
   "execution_count": 503,
   "metadata": {},
   "outputs": [],
   "source": [
    "ncaa_draft_data = ncaa_draft_alldata[(ncaa_draft_alldata.Season >= 2005) & (ncaa_draft_alldata.Season < 2016)]"
   ]
  },
  {
   "cell_type": "code",
   "execution_count": 504,
   "metadata": {},
   "outputs": [],
   "source": [
    "ncaa_draft_data20162019 = ncaa_draft_alldata[(ncaa_draft_alldata.Season >= 2016) & (ncaa_draft_alldata.Season < 2020)]"
   ]
  },
  {
   "cell_type": "code",
   "execution_count": 505,
   "metadata": {},
   "outputs": [
    {
     "data": {
      "text/plain": [
       "179"
      ]
     },
     "execution_count": 505,
     "metadata": {},
     "output_type": "execute_result"
    }
   ],
   "source": [
    "ncaa_draft_data_19992005.shape[0]"
   ]
  },
  {
   "cell_type": "code",
   "execution_count": 506,
   "metadata": {},
   "outputs": [
    {
     "data": {
      "text/plain": [
       "490"
      ]
     },
     "execution_count": 506,
     "metadata": {},
     "output_type": "execute_result"
    }
   ],
   "source": [
    "ncaa_draft_data.shape[0]"
   ]
  },
  {
   "cell_type": "code",
   "execution_count": 507,
   "metadata": {},
   "outputs": [
    {
     "data": {
      "text/plain": [
       "202"
      ]
     },
     "execution_count": 507,
     "metadata": {},
     "output_type": "execute_result"
    }
   ],
   "source": [
    "ncaa_draft_data20162019.shape[0]"
   ]
  },
  {
   "cell_type": "code",
   "execution_count": 508,
   "metadata": {},
   "outputs": [],
   "source": [
    "#features and target\n",
    "features = ncaa_draft_data.drop(['Player','Class','Season','Pos','School','Conf','Year Drafted','Rd','Tm','Projected Pk','Team Score','Pk'],1)\n",
    "target = ncaa_draft_data['Pk']"
   ]
  },
  {
   "cell_type": "code",
   "execution_count": 509,
   "metadata": {},
   "outputs": [
    {
     "data": {
      "text/plain": [
       "Index(['G', 'MP', 'FG', 'FGA', '2P', '2PA', '3P', '3PA', 'FT', 'FTA', 'ORB',\n",
       "       'DRB', 'TRB', 'AST', 'STL', 'BLK', 'TOV', 'PF', 'PTS', 'PER', 'eFG%',\n",
       "       'WS', 'AP Player of the Year', 'NABC Defensive Player of the Year',\n",
       "       'NABC Player of the Year', 'Naismith Award',\n",
       "       'NCAA Tournament Most Outstanding Player', 'NIT Most Valuable Player',\n",
       "       'Rupp Trophy', 'Sporting News Player of the Year',\n",
       "       'UPI Player of the Year', 'USBWA Freshman of the Year'],\n",
       "      dtype='object')"
      ]
     },
     "execution_count": 509,
     "metadata": {},
     "output_type": "execute_result"
    }
   ],
   "source": [
    "features.columns"
   ]
  },
  {
   "cell_type": "code",
   "execution_count": 510,
   "metadata": {},
   "outputs": [],
   "source": [
    "#split training and testing data\n",
    "features_train, features_test, target_train, target_test = train_test_split(features, target, test_size = 0.40)"
   ]
  },
  {
   "cell_type": "code",
   "execution_count": 511,
   "metadata": {},
   "outputs": [
    {
     "data": {
      "text/plain": [
       "array([[ 0.29652385,  0.50121732, -0.33097343, ..., -0.18764666,\n",
       "        -0.05842062, -0.17770466],\n",
       "       [ 0.09928853, -0.69400805, -0.60116448, ..., -0.18764666,\n",
       "        -0.05842062, -0.17770466],\n",
       "       [-0.68965275,  0.96880514,  0.55145272, ..., -0.18764666,\n",
       "        -0.05842062, -0.17770466],\n",
       "       ...,\n",
       "       [ 0.29652385,  0.83568643,  1.75632665, ..., -0.18764666,\n",
       "        -0.05842062, -0.17770466],\n",
       "       [ 0.09928853,  0.69788516,  0.8133302 , ..., -0.18764666,\n",
       "        -0.05842062, -0.17770466],\n",
       "       [ 0.49375916,  0.15771754, -0.52099791, ..., -0.18764666,\n",
       "        -0.05842062, -0.17770466]])"
      ]
     },
     "execution_count": 511,
     "metadata": {},
     "output_type": "execute_result"
    }
   ],
   "source": [
    "#standardize the features\n",
    "scaler = preprocessing.StandardScaler().fit(features_train)\n",
    "scaler.transform(features_train)\n",
    "scaler.transform(features_test)"
   ]
  },
  {
   "cell_type": "code",
   "execution_count": 512,
   "metadata": {},
   "outputs": [
    {
     "data": {
      "text/plain": [
       "MLPRegressor(activation='identity', alpha=0.005, batch_size='auto', beta_1=0.9,\n",
       "             beta_2=0.999, early_stopping=False, epsilon=1e-08,\n",
       "             hidden_layer_sizes=(33,), learning_rate='constant',\n",
       "             learning_rate_init=0.001, max_iter=500, momentum=0.9,\n",
       "             n_iter_no_change=10, nesterovs_momentum=True, power_t=0.5,\n",
       "             random_state=None, shuffle=True, solver='lbfgs', tol=0.0001,\n",
       "             validation_fraction=0.1, verbose=False, warm_start=False)"
      ]
     },
     "execution_count": 512,
     "metadata": {},
     "output_type": "execute_result"
    }
   ],
   "source": [
    "#Fit model by a multi-layer perceptron neural network using lbfgs optimization\n",
    "model_MLP = MLPRegressor(hidden_layer_sizes = (33,), activation='identity', solver='lbfgs', alpha = 0.005, max_iter = 500, shuffle=True)\n",
    "model_MLP.fit(features_train, target_train)"
   ]
  },
  {
   "cell_type": "code",
   "execution_count": 513,
   "metadata": {},
   "outputs": [
    {
     "data": {
      "text/plain": [
       "MLPRegressor(activation='identity', alpha=0.001, batch_size='auto', beta_1=0.9,\n",
       "             beta_2=0.999, early_stopping=False, epsilon=1e-08,\n",
       "             hidden_layer_sizes=(32,), learning_rate='constant',\n",
       "             learning_rate_init=0.001, max_iter=1000, momentum=0.9,\n",
       "             n_iter_no_change=10, nesterovs_momentum=True, power_t=0.5,\n",
       "             random_state=None, shuffle=True, solver='adam', tol=0.0001,\n",
       "             validation_fraction=0.1, verbose=False, warm_start=False)"
      ]
     },
     "execution_count": 513,
     "metadata": {},
     "output_type": "execute_result"
    }
   ],
   "source": [
    "#Fit model by a multi-layer perceptron neural network using lbfgs optimization\n",
    "model_MLP = MLPRegressor(hidden_layer_sizes = (32,), activation='identity', solver='adam', alpha = 0.001, max_iter = 1000, shuffle=True)\n",
    "model_MLP.fit(features_train, target_train)"
   ]
  },
  {
   "cell_type": "code",
   "execution_count": 514,
   "metadata": {},
   "outputs": [
    {
     "data": {
      "text/plain": [
       "<matplotlib.axes._subplots.AxesSubplot at 0x2464b3140f0>"
      ]
     },
     "execution_count": 514,
     "metadata": {},
     "output_type": "execute_result"
    },
    {
     "data": {
      "image/png": "[encoded data removed]",
      "text/plain": [
       "<Figure size 432x288 with 1 Axes>"
      ]
     },
     "metadata": {
      "needs_background": "light"
     },
     "output_type": "display_data"
    }
   ],
   "source": [
    "pd.DataFrame(model_MLP.loss_curve_).plot()"
   ]
  },
  {
   "cell_type": "code",
   "execution_count": 515,
   "metadata": {},
   "outputs": [],
   "source": [
    "#MSEMLP = mean_squared_error(y_true, y_predict)"
   ]
  },
  {
   "cell_type": "code",
   "execution_count": 516,
   "metadata": {},
   "outputs": [
    {
     "data": {
      "text/plain": [
       "Ridge(alpha=1.0, copy_X=True, fit_intercept=True, max_iter=None,\n",
       "      normalize=False, random_state=None, solver='auto', tol=0.001)"
      ]
     },
     "execution_count": 516,
     "metadata": {},
     "output_type": "execute_result"
    }
   ],
   "source": [
    "#Fit a model by Ridge Regression\n",
    "model_ridge = Ridge(alpha=1.0)\n",
    "model_ridge.fit(features_train, target_train)"
   ]
  },
  {
   "cell_type": "code",
   "execution_count": 517,
   "metadata": {},
   "outputs": [
    {
     "data": {
      "text/plain": [
       "SVR(C=1.0, cache_size=200, coef0=0.0, degree=3, epsilon=0.1,\n",
       "    gamma='auto_deprecated', kernel='linear', max_iter=-1, shrinking=True,\n",
       "    tol=0.001, verbose=False)"
      ]
     },
     "execution_count": 517,
     "metadata": {},
     "output_type": "execute_result"
    }
   ],
   "source": [
    "#Fit a model by a linear SVR\n",
    "model_SVR = SVR(kernel = 'linear')\n",
    "model_SVR.fit(features_train, target_train)"
   ]
  },
  {
   "cell_type": "code",
   "execution_count": 518,
   "metadata": {},
   "outputs": [
    {
     "data": {
      "text/plain": [
       "Lasso(alpha=1.0, copy_X=True, fit_intercept=True, max_iter=1000,\n",
       "      normalize=False, positive=False, precompute=False, random_state=None,\n",
       "      selection='cyclic', tol=0.0001, warm_start=False)"
      ]
     },
     "execution_count": 518,
     "metadata": {},
     "output_type": "execute_result"
    }
   ],
   "source": [
    "#Fit a model by Lasso Regression\n",
    "model_lasso = linear_model.Lasso()\n",
    "model_lasso.fit(features_train, target_train)"
   ]
  },
  {
   "cell_type": "code",
   "execution_count": 519,
   "metadata": {},
   "outputs": [
    {
     "name": "stdout",
     "output_type": "stream",
     "text": [
      "23.924031735151793\n",
      "[ 1.97083635e-02  6.11695465e-01 -5.48291417e+03  8.92226852e+02\n",
      "  3.25884345e+03 -8.89329195e+02  2.15592741e+03 -8.91821188e+02\n",
      " -1.10752691e+03 -8.14323489e-01  3.19491409e+03  3.19282146e+03\n",
      " -3.19190779e+03 -1.42995908e+00  1.91595986e+00 -2.40828245e+00\n",
      " -6.21671359e-01 -4.21695999e+00  1.10866840e+03 -1.95435699e-01\n",
      "  2.04460498e+01 -3.73596382e+00 -2.50995856e+00 -7.58121423e+00\n",
      " -7.75863224e-01 -2.50995856e+00 -3.77273601e+00  2.49065594e+01\n",
      "  4.16936816e+00 -1.40675822e+01  2.67069086e+01 -2.42705607e+00]\n"
     ]
    }
   ],
   "source": [
    "#Fit model by linear regression\n",
    "model_LR = LinearRegression()\n",
    "model_LR.fit(features_train, target_train)\n",
    "print(model_LR.intercept_)\n",
    "print(model_LR.coef_)"
   ]
  },
  {
   "cell_type": "code",
   "execution_count": 520,
   "metadata": {},
   "outputs": [],
   "source": [
    "#Predict target on testing data\n",
    "target_pred_MLP = model_MLP.predict(features_test)\n",
    "target_pred_LR = model_LR.predict(features_test)\n",
    "target_pred_ridge = model_ridge.predict(features_test)\n",
    "target_pred_SVR = model_SVR.predict(features_test)\n",
    "target_pred_lasso = model_lasso.predict(features_test)"
   ]
  },
  {
   "cell_type": "code",
   "execution_count": 521,
   "metadata": {},
   "outputs": [
    {
     "data": {
      "text/plain": [
       "array([[ 0.09928853,  0.27494897, -0.44380046, ..., -0.18764666,\n",
       "        -0.05842062, -0.17770466],\n",
       "       [-0.29518211, -0.82144078,  0.03185455, ..., -0.18764666,\n",
       "        -0.05842062, -0.17770466],\n",
       "       [-0.49241743, -0.9018806 , -0.38738695, ..., -0.18764666,\n",
       "        -0.05842062, -0.17770466],\n",
       "       ...,\n",
       "       [ 0.69099448,  0.03597079,  1.40181224, ..., -0.18764666,\n",
       "        -0.05842062, -0.17770466],\n",
       "       [ 0.8882298 ,  0.90659388,  0.08292363, ..., -0.18764666,\n",
       "        -0.05842062, -0.17770466],\n",
       "       [-5.6205357 , -0.36355256,  0.43268742, ..., -0.18764666,\n",
       "        -0.05842062, -0.17770466]])"
      ]
     },
     "execution_count": 521,
     "metadata": {},
     "output_type": "execute_result"
    }
   ],
   "source": [
    "#Importing NCAA and draft merge data\n",
    "nba_draft_data = ncaa_draft_data20162019\n",
    "pro_features = nba_draft_data.drop(['Player','Class','Season','Pos','School','Conf','Year Drafted','Rd','Tm','Projected Pk','Team Score','Pk'], 1)\n",
    "scaler.transform(pro_features)"
   ]
  },
  {
   "cell_type": "code",
   "execution_count": 522,
   "metadata": {},
   "outputs": [
    {
     "data": {
      "text/plain": [
       "200"
      ]
     },
     "execution_count": 522,
     "metadata": {},
     "output_type": "execute_result"
    }
   ],
   "source": [
    "#Using the multi-layer perceptron neural network model to predict current prospects\n",
    "MLPPrediction = model_MLP.predict(pro_features)\n",
    "nba_draft_data['Projected Pk'] = MLPPrediction\n",
    "nba_draft_data['Projected Pk'] = nba_draft_data['Projected Pk'].round()\n",
    "MLPResults = nba_draft_data[['Player','Class','Season','Pos','School','Conf','Year Drafted','Rd','Pk','Tm','Projected Pk']]\n",
    "MLPResults.head(8)\n",
    "mlpdiff = MLPResults[(MLPResults['Pk'] != MLPResults['Projected Pk'])]\n",
    "mlpdiff.head()\n",
    "mlpdiff.shape[0]"
   ]
  },
  {
   "cell_type": "code",
   "execution_count": 523,
   "metadata": {},
   "outputs": [
    {
     "data": {
      "text/plain": [
       "198"
      ]
     },
     "execution_count": 523,
     "metadata": {},
     "output_type": "execute_result"
    }
   ],
   "source": [
    "#Using the Linear regression perceptron neural network model to predict current prospects\n",
    "LRPrediction = model_LR.predict(pro_features)\n",
    "nba_draft_data['Projected Pk'] = LRPrediction\n",
    "nba_draft_data['Projected Pk'] = nba_draft_data['Projected Pk'].round()\n",
    "LRResults = nba_draft_data[['Player','Class','Season','Pos','School','Conf','Year Drafted','Rd','Pk','Tm','Projected Pk']]\n",
    "lrdiff = LRResults[(LRResults['Pk'] != LRResults['Projected Pk'])]\n",
    "lrdiff.shape[0]\n"
   ]
  },
  {
   "cell_type": "code",
   "execution_count": 524,
   "metadata": {},
   "outputs": [
    {
     "data": {
      "text/plain": [
       "199"
      ]
     },
     "execution_count": 524,
     "metadata": {},
     "output_type": "execute_result"
    }
   ],
   "source": [
    "#Using the Ridge perceptron neural network model to predict current prospects\n",
    "RidgePrediction = model_ridge.predict(pro_features)\n",
    "nba_draft_data['Projected Pk'] = RidgePrediction\n",
    "nba_draft_data['Projected Pk'] = nba_draft_data['Projected Pk'].round()\n",
    "RidgeResults = nba_draft_data[['Player','Class','Season','Pos','School','Conf','Year Drafted','Rd','Pk','Tm','Projected Pk']]\n",
    "ridgediff = RidgeResults[(LRResults['Pk'] != RidgeResults['Projected Pk'])]\n",
    "ridgediff.shape[0]\n"
   ]
  },
  {
   "cell_type": "code",
   "execution_count": 525,
   "metadata": {},
   "outputs": [
    {
     "data": {
      "text/plain": [
       "197"
      ]
     },
     "execution_count": 525,
     "metadata": {},
     "output_type": "execute_result"
    }
   ],
   "source": [
    "#Using the lasso perceptron neural network model to predict current prospects\n",
    "lassoPrediction = model_lasso.predict(pro_features)\n",
    "nba_draft_data['Projected Pk'] = lassoPrediction\n",
    "nba_draft_data['Projected Pk'] = nba_draft_data['Projected Pk'].round()\n",
    "lassoResults = nba_draft_data[['Player','Class','Season','Pos','School','Conf','Year Drafted','Rd','Pk','Tm','Projected Pk']]\n",
    "lassodiff = lassoResults[(lassoResults['Pk'] != lassoResults['Projected Pk'])]\n",
    "lassodiff.shape[0]\n"
   ]
  },
  {
   "cell_type": "code",
   "execution_count": null,
   "metadata": {},
   "outputs": [],
   "source": []
  },
  {
   "cell_type": "code",
   "execution_count": 526,
   "metadata": {},
   "outputs": [
    {
     "data": {
      "text/plain": [
       "198"
      ]
     },
     "execution_count": 526,
     "metadata": {},
     "output_type": "execute_result"
    }
   ],
   "source": [
    "#Using the SVR perceptron neural network model to predict current prospects\n",
    "SVRPrediction = model_SVR.predict(pro_features)\n",
    "nba_draft_data['Projected Pk'] = SVRPrediction\n",
    "nba_draft_data['Projected Pk'] = nba_draft_data['Projected Pk'].round()\n",
    "SVRResults = nba_draft_data[['Player','Class','Season','Pos','School','Conf','Year Drafted','Rd','Pk','Tm','Projected Pk']]\n",
    "svrdiff = SVRResults[(SVRResults['Pk'] != SVRResults['Projected Pk'])]\n",
    "svrdiff.shape[0]"
   ]
  },
  {
   "cell_type": "code",
   "execution_count": 527,
   "metadata": {},
   "outputs": [],
   "source": [
    "MLPResults.to_csv('../static/data/MLPpredictions.csv')"
   ]
  },
  {
   "cell_type": "code",
   "execution_count": 528,
   "metadata": {},
   "outputs": [],
   "source": [
    "LRResults.to_csv('../static/data/LRpredictions.csv')"
   ]
  },
  {
   "cell_type": "code",
   "execution_count": 529,
   "metadata": {},
   "outputs": [],
   "source": [
    "RidgeResults.to_csv('../static/data/Ridgepredictions.csv')"
   ]
  },
  {
   "cell_type": "code",
   "execution_count": 530,
   "metadata": {},
   "outputs": [],
   "source": [
    "lassoResults.to_csv('../static/data/Lassopredictions.csv')"
   ]
  },
  {
   "cell_type": "code",
   "execution_count": 531,
   "metadata": {},
   "outputs": [],
   "source": [
    "SVRResults.to_csv('../static/data/SVRpredictions.csv')"
   ]
  },
  {
   "cell_type": "code",
   "execution_count": null,
   "metadata": {},
   "outputs": [],
   "source": []
  }
 ],
 "metadata": {
  "kernelspec": {
   "display_name": "Python 3",
   "language": "python",
   "name": "python3"
  },
  "language_info": {
   "codemirror_mode": {
    "name": "ipython",
    "version": 3
   },
   "file_extension": ".py",
   "mimetype": "text/x-python",
   "name": "python",
   "nbconvert_exporter": "python",
   "pygments_lexer": "ipython3",
   "version": "3.7.0"
  }
 },
 "nbformat": 4,
 "nbformat_minor": 2
}
