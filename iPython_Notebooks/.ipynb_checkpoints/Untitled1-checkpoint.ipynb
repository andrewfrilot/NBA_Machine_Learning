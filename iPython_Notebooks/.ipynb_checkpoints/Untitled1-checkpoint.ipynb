{
 "cells": [
  {
   "cell_type": "code",
   "execution_count": 30,
   "metadata": {},
   "outputs": [],
   "source": [
    "#--Dependencies--#\n",
    "\n",
    "#-- Data Cleaning Libraries:\n",
    "import pandas as pd\n",
    "import numpy as np\n",
    "from pandas.api.types import is_string_dtype\n",
    "from pandas.api.types import is_numeric_dtype\n",
    "\n",
    "#-- Data Visualization Libraries:\n",
    "from matplotlib import pyplot as plt\n",
    "import seaborn as sns #--just in case we need it, probably won't\n",
    "\n",
    "\n",
    "#-- Web Scraping Libraries:\n",
    "import os\n",
    "import time\n",
    "import requests\n",
    "from bs4 import BeautifulSoup as bs\n",
    "from splinter import Browser\n"
   ]
  },
  {
   "cell_type": "code",
   "execution_count": 31,
   "metadata": {},
   "outputs": [],
   "source": [
    "#Settings for accessing Website\n",
    "\n",
    "executable_path = {\"executable_path\": \"chromedriver.exe\"}\n",
    "\n",
    "browser = Browser ('chrome', **executable_path, headless=False)\n",
    "\n"
   ]
  },
  {
   "cell_type": "code",
   "execution_count": 33,
   "metadata": {},
   "outputs": [],
   "source": [
    "#go to url by loop\n",
    "yr_min = 2000\n",
    "yr_max = 2019\n",
    "start = 0\n",
    "end = 90400\n",
    "off = 0\n",
    "\n",
    "ncaa_df = pd.DataFrame()\n",
    "\n",
    "url = f\"https://www.sports-reference.com/cbb/play-index/psl_finder.cgi?request=1&match=single&year_min=2000&year_max=2019&conf_id=&school_id=&class_is_fr=Y&class_is_so=Y&class_is_jr=Y&class_is_sr=Y&pos_is_g=Y&pos_is_gf=Y&pos_is_fg=Y&pos_is_f=Y&pos_is_fc=Y&pos_is_cf=Y&pos_is_c=Y&games_type=A&qual=&c1stat=&c1comp=&c1val=&c2stat=&c2comp=&c2val=&c3stat=&c3comp=&c3val=&c4stat=&c4comp=&c4val=&order_by=ws&order_by_asc=&offset={off}\"\n",
    "\n",
    "# browser.visit(url)\n",
    "# html = browser.html\n",
    "# read_html = pd.read_html(html, header = 0)\n",
    "# read_html[3]"
   ]
  },
  {
   "cell_type": "code",
   "execution_count": 34,
   "metadata": {},
   "outputs": [
    {
     "ename": "SyntaxError",
     "evalue": "unexpected EOF while parsing (<ipython-input-34-85520d275775>, line 16)",
     "output_type": "error",
     "traceback": [
      "\u001b[1;36m  File \u001b[1;32m\"<ipython-input-34-85520d275775>\"\u001b[1;36m, line \u001b[1;32m16\u001b[0m\n\u001b[1;33m    \u001b[0m\n\u001b[1;37m    ^\u001b[0m\n\u001b[1;31mSyntaxError\u001b[0m\u001b[1;31m:\u001b[0m unexpected EOF while parsing\n"
     ]
    }
   ],
   "source": [
    "for off in range(start, end, 100):\n",
    "\n",
    "    \n",
    "    if off == 0:\n",
    "        \n",
    "        off = str(off)\n",
    "        browser.visit(url)\n",
    "        html = browser.html\n",
    "        read_html = pd.read_html(html, header = 0)\n",
    "    \n",
    "        to_df = pd.DataFrame(read_html[3])\n",
    "        ncaa_df = to_df\n",
    "        \n",
    "        time.sleep(1)\n",
    "    else:\n",
    "        \n",
    "    "
   ]
  },
  {
   "cell_type": "code",
   "execution_count": null,
   "metadata": {},
   "outputs": [],
   "source": []
  }
 ],
 "metadata": {
  "kernelspec": {
   "display_name": "Python 3",
   "language": "python",
   "name": "python3"
  },
  "language_info": {
   "codemirror_mode": {
    "name": "ipython",
    "version": 3
   },
   "file_extension": ".py",
   "mimetype": "text/x-python",
   "name": "python",
   "nbconvert_exporter": "python",
   "pygments_lexer": "ipython3",
   "version": "3.7.0"
  }
 },
 "nbformat": 4,
 "nbformat_minor": 2
}
