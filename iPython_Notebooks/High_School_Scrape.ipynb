{
 "cells": [
  {
   "cell_type": "code",
   "execution_count": 3,
   "metadata": {},
   "outputs": [],
   "source": [
    "#--Dependencies--#\n",
    "\n",
    "#-- Data Cleaning Libraries:\n",
    "import pandas as pd\n",
    "import numpy as np\n",
    "\n",
    "#-- Data Visualization Libraries:\n",
    "from matplotlib import pyplot as plt\n",
    "import seaborn as sns #--just in case we need it, probably won't\n",
    "\n",
    "\n",
    "#-- Web Scraping Libraries:\n",
    "import os\n",
    "import time\n",
    "import requests\n",
    "from splinter import Browser\n",
    "from bs4 import BeautifulSoup"
   ]
  },
  {
   "cell_type": "code",
   "execution_count": 4,
   "metadata": {},
   "outputs": [],
   "source": [
    "#Settings for accessing Website\n",
    "\n",
    "executable_path = {\"executable_path\": \"chromedriver.exe\"}\n",
    "\n",
    "browser = Browser ('chrome', **executable_path, headless=False)\n"
   ]
  },
  {
   "cell_type": "code",
   "execution_count": 2,
   "metadata": {},
   "outputs": [],
   "source": [
    "url = \"https://247sports.com/Season/2015-Basketball/CompositeRecruitRankings/?InstitutionGroup=HighSchool\""
   ]
  },
  {
   "cell_type": "code",
   "execution_count": 5,
   "metadata": {},
   "outputs": [],
   "source": [
    "browser.visit(url)"
   ]
  },
  {
   "cell_type": "code",
   "execution_count": 6,
   "metadata": {},
   "outputs": [],
   "source": [
    "soup = BeautifulSoup(browser.html, 'html.parser')"
   ]
  },
  {
   "cell_type": "code",
   "execution_count": 11,
   "metadata": {},
   "outputs": [],
   "source": [
    "rank = soup.find_all(\"div\", class_=\"rank-column\")"
   ]
  },
  {
   "cell_type": "code",
   "execution_count": 12,
   "metadata": {
    "collapsed": true
   },
   "outputs": [
    {
     "name": "stdout",
     "output_type": "stream",
     "text": [
      "[<div class=\"rank-column\"> <div class=\"primary\"> 1  </div> <div class=\"other\">1</div> </div>, <div class=\"rank-column\"> <div class=\"primary\"> 2  </div> <div class=\"other\">2</div> </div>, <div class=\"rank-column\"> <div class=\"primary\"> 3  </div> <div class=\"other\">3</div> </div>, <div class=\"rank-column\"> <div class=\"primary\"> 4  </div> <div class=\"other\">5</div> </div>, <div class=\"rank-column\"> <div class=\"primary\"> 5  </div> <div class=\"other\">4</div> </div>, <div class=\"rank-column\"> <div class=\"primary\"> 6  </div> <div class=\"other\">8</div> </div>, <div class=\"rank-column\"> <div class=\"primary\"> 7  </div> <div class=\"other\">11</div> </div>, <div class=\"rank-column\"> <div class=\"primary\"> 8  </div> <div class=\"other\">7</div> </div>, <div class=\"rank-column\"> <div class=\"primary\"> 9  </div> <div class=\"other\">23</div> </div>, <div class=\"rank-column\"> <div class=\"primary\"> 10  </div> <div class=\"other\">10</div> </div>, <div class=\"rank-column\"> <div class=\"primary\"> 11  </div> <div class=\"other\">15</div> </div>, <div class=\"rank-column\"> <div class=\"primary\"> 12  </div> <div class=\"other\">16</div> </div>, <div class=\"rank-column\"> <div class=\"primary\"> 13  </div> <div class=\"other\">6</div> </div>, <div class=\"rank-column\"> <div class=\"primary\"> 14  </div> <div class=\"other\">18</div> </div>, <div class=\"rank-column\"> <div class=\"primary\"> 15  </div> <div class=\"other\">20</div> </div>, <div class=\"rank-column\"> <div class=\"primary\"> 16  </div> <div class=\"other\">14</div> </div>, <div class=\"rank-column\"> <div class=\"primary\"> 17  </div> <div class=\"other\">9</div> </div>, <div class=\"rank-column\"> <div class=\"primary\"> 18  </div> <div class=\"other\">12</div> </div>, <div class=\"rank-column\"> <div class=\"primary\"> 19  </div> <div class=\"other\">32</div> </div>, <div class=\"rank-column\"> <div class=\"primary\"> 20  </div> <div class=\"other\">13</div> </div>, <div class=\"rank-column\"> <div class=\"primary\"> 21  </div> <div class=\"other\">21</div> </div>, <div class=\"rank-column\"> <div class=\"primary\"> 22  </div> <div class=\"other\">30</div> </div>, <div class=\"rank-column\"> <div class=\"primary\"> 23  </div> <div class=\"other\">31</div> </div>, <div class=\"rank-column\"> <div class=\"primary\"> 24  </div> <div class=\"other\">25</div> </div>, <div class=\"rank-column\"> <div class=\"primary\"> 25  </div> <div class=\"other\">22</div> </div>, <div class=\"rank-column\"> <div class=\"primary\"> 26  </div> <div class=\"other\">34</div> </div>, <div class=\"rank-column\"> <div class=\"primary\"> 27  </div> <div class=\"other\">19</div> </div>, <div class=\"rank-column\"> <div class=\"primary\"> 28  </div> <div class=\"other\">24</div> </div>, <div class=\"rank-column\"> <div class=\"primary\"> 29  </div> <div class=\"other\">36</div> </div>, <div class=\"rank-column\"> <div class=\"primary\"> 30  </div> <div class=\"other\">17</div> </div>, <div class=\"rank-column\"> <div class=\"primary\"> 31  </div> <div class=\"other\">44</div> </div>, <div class=\"rank-column\"> <div class=\"primary\"> 32  </div> <div class=\"other\">27</div> </div>, <div class=\"rank-column\"> <div class=\"primary\"> 33  </div> <div class=\"other\">51</div> </div>, <div class=\"rank-column\"> <div class=\"primary\"> 34  </div> <div class=\"other\">50</div> </div>, <div class=\"rank-column\"> <div class=\"primary\"> 35  </div> <div class=\"other\">39</div> </div>, <div class=\"rank-column\"> <div class=\"primary\"> 36  </div> <div class=\"other\">38</div> </div>, <div class=\"rank-column\"> <div class=\"primary\"> 37  </div> <div class=\"other\">35</div> </div>, <div class=\"rank-column\"> <div class=\"primary\"> 38  </div> <div class=\"other\">40</div> </div>, <div class=\"rank-column\"> <div class=\"primary\"> 39  </div> <div class=\"other\">28</div> </div>, <div class=\"rank-column\"> <div class=\"primary\"> 40  </div> <div class=\"other\">54</div> </div>, <div class=\"rank-column\"> <div class=\"primary\"> 41  </div> <div class=\"other\">60</div> </div>, <div class=\"rank-column\"> <div class=\"primary\"> 42  </div> <div class=\"other\">26</div> </div>, <div class=\"rank-column\"> <div class=\"primary\"> 43  </div> <div class=\"other\">64</div> </div>, <div class=\"rank-column\"> <div class=\"primary\"> 44  </div> <div class=\"other\">79</div> </div>, <div class=\"rank-column\"> <div class=\"primary\"> 45  </div> <div class=\"other\">52</div> </div>, <div class=\"rank-column\"> <div class=\"primary\"> 46  </div> <div class=\"other\">43</div> </div>, <div class=\"rank-column\"> <div class=\"primary\"> 47  </div> <div class=\"other\">62</div> </div>, <div class=\"rank-column\"> <div class=\"primary\"> 48  </div> <div class=\"other\">33</div> </div>, <div class=\"rank-column\"> <div class=\"primary\"> 49  </div> <div class=\"other\">66</div> </div>, <div class=\"rank-column\"> <div class=\"primary\"> 50  </div> <div class=\"other\">41</div> </div>]\n"
     ]
    }
   ],
   "source": [
    "print(rank)"
   ]
  },
  {
   "cell_type": "code",
   "execution_count": 14,
   "metadata": {},
   "outputs": [],
   "source": [
    "players = soup.find_all(\"div\", class_=\"recruit\")"
   ]
  },
  {
   "cell_type": "code",
   "execution_count": 26,
   "metadata": {},
   "outputs": [],
   "source": [
    "players = soup.find_all(\"a\")"
   ]
  },
  {
   "cell_type": "code",
   "execution_count": 27,
   "metadata": {},
   "outputs": [
    {
     "ename": "AttributeError",
     "evalue": "ResultSet object has no attribute 'text'. You're probably treating a list of items like a single item. Did you call find_all() when you meant to call find()?",
     "output_type": "error",
     "traceback": [
      "\u001b[1;31m---------------------------------------------------------------------------\u001b[0m",
      "\u001b[1;31mAttributeError\u001b[0m                            Traceback (most recent call last)",
      "\u001b[1;32m<ipython-input-27-f8d92f0a0372>\u001b[0m in \u001b[0;36m<module>\u001b[1;34m\u001b[0m\n\u001b[1;32m----> 1\u001b[1;33m \u001b[0mplayers\u001b[0m\u001b[1;33m.\u001b[0m\u001b[0mtext\u001b[0m\u001b[1;33m\u001b[0m\u001b[1;33m\u001b[0m\u001b[0m\n\u001b[0m",
      "\u001b[1;32m~\\anaconda\\Anaconda3\\lib\\site-packages\\bs4\\element.py\u001b[0m in \u001b[0;36m__getattr__\u001b[1;34m(self, key)\u001b[0m\n\u001b[0;32m   1882\u001b[0m     \u001b[1;32mdef\u001b[0m \u001b[0m__getattr__\u001b[0m\u001b[1;33m(\u001b[0m\u001b[0mself\u001b[0m\u001b[1;33m,\u001b[0m \u001b[0mkey\u001b[0m\u001b[1;33m)\u001b[0m\u001b[1;33m:\u001b[0m\u001b[1;33m\u001b[0m\u001b[1;33m\u001b[0m\u001b[0m\n\u001b[0;32m   1883\u001b[0m         raise AttributeError(\n\u001b[1;32m-> 1884\u001b[1;33m             \u001b[1;34m\"ResultSet object has no attribute '%s'. You're probably treating a list of items like a single item. Did you call find_all() when you meant to call find()?\"\u001b[0m \u001b[1;33m%\u001b[0m \u001b[0mkey\u001b[0m\u001b[1;33m\u001b[0m\u001b[1;33m\u001b[0m\u001b[0m\n\u001b[0m\u001b[0;32m   1885\u001b[0m         )\n",
      "\u001b[1;31mAttributeError\u001b[0m: ResultSet object has no attribute 'text'. You're probably treating a list of items like a single item. Did you call find_all() when you meant to call find()?"
     ]
    }
   ],
   "source": [
    "players.text"
   ]
  },
  {
   "cell_type": "code",
   "execution_count": null,
   "metadata": {},
   "outputs": [],
   "source": []
  }
 ],
 "metadata": {
  "kernelspec": {
   "display_name": "Python 3",
   "language": "python",
   "name": "python3"
  },
  "language_info": {
   "codemirror_mode": {
    "name": "ipython",
    "version": 3
   },
   "file_extension": ".py",
   "mimetype": "text/x-python",
   "name": "python",
   "nbconvert_exporter": "python",
   "pygments_lexer": "ipython3",
   "version": "3.7.1"
  }
 },
 "nbformat": 4,
 "nbformat_minor": 2
}
