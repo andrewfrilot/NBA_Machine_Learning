{
 "cells": [
  {
   "cell_type": "code",
   "execution_count": 76,
   "metadata": {},
   "outputs": [],
   "source": [
    "import pandas as pd\n",
    "import sklearn.model_selection as model_selection\n",
    "from sklearn.linear_model import LinearRegression\n",
    "from sklearn.linear_model import Ridge\n",
    "from sklearn import linear_model\n",
    "from sklearn.svm import SVR\n",
    "from sklearn.model_selection import train_test_split\n",
    "from sklearn import preprocessing\n",
    "from sklearn import metrics\n",
    "from sklearn.neural_network import MLPRegressor\n",
    "from sklearn.model_selection import cross_val_predict, cross_validate\n",
    "from sklearn.preprocessing import StandardScaler\n",
    "import matplotlib.pyplot as plt\n",
    "import numpy as np\n",
    "from sklearn.metrics import mean_squared_error\n",
    "import warnings\n",
    "warnings.filterwarnings(action='ignore')"
   ]
  },
  {
   "cell_type": "code",
   "execution_count": 77,
   "metadata": {},
   "outputs": [],
   "source": [
    "#pd.options.display.f"
   ]
  },
  {
   "cell_type": "code",
   "execution_count": 78,
   "metadata": {},
   "outputs": [
    {
     "data": {
      "text/html": [
       "<div>\n",
       "<style scoped>\n",
       "    .dataframe tbody tr th:only-of-type {\n",
       "        vertical-align: middle;\n",
       "    }\n",
       "\n",
       "    .dataframe tbody tr th {\n",
       "        vertical-align: top;\n",
       "    }\n",
       "\n",
       "    .dataframe thead th {\n",
       "        text-align: right;\n",
       "    }\n",
       "</style>\n",
       "<table border=\"1\" class=\"dataframe\">\n",
       "  <thead>\n",
       "    <tr style=\"text-align: right;\">\n",
       "      <th></th>\n",
       "      <th>Player</th>\n",
       "      <th>Class</th>\n",
       "      <th>Season</th>\n",
       "      <th>Pos</th>\n",
       "      <th>School</th>\n",
       "      <th>Conf</th>\n",
       "      <th>G</th>\n",
       "      <th>MP</th>\n",
       "      <th>FG</th>\n",
       "      <th>FGA</th>\n",
       "      <th>...</th>\n",
       "      <th>Sporting News Player of the Year</th>\n",
       "      <th>UPI Player of the Year</th>\n",
       "      <th>USBWA Freshman of the Year</th>\n",
       "      <th>Year Drafted</th>\n",
       "      <th>Rd</th>\n",
       "      <th>Pk</th>\n",
       "      <th>Tm</th>\n",
       "      <th>Projected Rd</th>\n",
       "      <th>Projected Pk</th>\n",
       "      <th>Team Score</th>\n",
       "    </tr>\n",
       "  </thead>\n",
       "  <tbody>\n",
       "    <tr>\n",
       "      <th>0</th>\n",
       "      <td>Ray Nixon</td>\n",
       "      <td>SR</td>\n",
       "      <td>2006</td>\n",
       "      <td>F</td>\n",
       "      <td>Wisconsin</td>\n",
       "      <td>Big Ten</td>\n",
       "      <td>31</td>\n",
       "      <td>23.548</td>\n",
       "      <td>2.194</td>\n",
       "      <td>5.355</td>\n",
       "      <td>...</td>\n",
       "      <td>0</td>\n",
       "      <td>0</td>\n",
       "      <td>0</td>\n",
       "      <td>0</td>\n",
       "      <td>0</td>\n",
       "      <td>0</td>\n",
       "      <td>NaN</td>\n",
       "      <td>0</td>\n",
       "      <td>0</td>\n",
       "      <td>0</td>\n",
       "    </tr>\n",
       "    <tr>\n",
       "      <th>1</th>\n",
       "      <td>Ismaila Njie</td>\n",
       "      <td>FR</td>\n",
       "      <td>2006</td>\n",
       "      <td>C</td>\n",
       "      <td>Florida International</td>\n",
       "      <td>Sun Belt</td>\n",
       "      <td>17</td>\n",
       "      <td>6.059</td>\n",
       "      <td>0.412</td>\n",
       "      <td>1.176</td>\n",
       "      <td>...</td>\n",
       "      <td>0</td>\n",
       "      <td>0</td>\n",
       "      <td>0</td>\n",
       "      <td>0</td>\n",
       "      <td>0</td>\n",
       "      <td>0</td>\n",
       "      <td>NaN</td>\n",
       "      <td>0</td>\n",
       "      <td>0</td>\n",
       "      <td>0</td>\n",
       "    </tr>\n",
       "    <tr>\n",
       "      <th>2</th>\n",
       "      <td>Simplice Njoya</td>\n",
       "      <td>SR</td>\n",
       "      <td>2006</td>\n",
       "      <td>F</td>\n",
       "      <td>Memphis</td>\n",
       "      <td>CUSA</td>\n",
       "      <td>10</td>\n",
       "      <td>4.200</td>\n",
       "      <td>0.000</td>\n",
       "      <td>0.400</td>\n",
       "      <td>...</td>\n",
       "      <td>0</td>\n",
       "      <td>0</td>\n",
       "      <td>0</td>\n",
       "      <td>0</td>\n",
       "      <td>0</td>\n",
       "      <td>0</td>\n",
       "      <td>NaN</td>\n",
       "      <td>0</td>\n",
       "      <td>0</td>\n",
       "      <td>0</td>\n",
       "    </tr>\n",
       "    <tr>\n",
       "      <th>3</th>\n",
       "      <td>Anthony Noble</td>\n",
       "      <td>SR</td>\n",
       "      <td>2006</td>\n",
       "      <td>G</td>\n",
       "      <td>Stony Brook</td>\n",
       "      <td>AEC</td>\n",
       "      <td>23</td>\n",
       "      <td>7.000</td>\n",
       "      <td>0.783</td>\n",
       "      <td>1.739</td>\n",
       "      <td>...</td>\n",
       "      <td>0</td>\n",
       "      <td>0</td>\n",
       "      <td>0</td>\n",
       "      <td>0</td>\n",
       "      <td>0</td>\n",
       "      <td>0</td>\n",
       "      <td>NaN</td>\n",
       "      <td>0</td>\n",
       "      <td>0</td>\n",
       "      <td>0</td>\n",
       "    </tr>\n",
       "    <tr>\n",
       "      <th>4</th>\n",
       "      <td>David Noel</td>\n",
       "      <td>SR</td>\n",
       "      <td>2006</td>\n",
       "      <td>G</td>\n",
       "      <td>North Carolina</td>\n",
       "      <td>ACC</td>\n",
       "      <td>31</td>\n",
       "      <td>33.710</td>\n",
       "      <td>5.097</td>\n",
       "      <td>9.581</td>\n",
       "      <td>...</td>\n",
       "      <td>0</td>\n",
       "      <td>0</td>\n",
       "      <td>0</td>\n",
       "      <td>2006</td>\n",
       "      <td>2</td>\n",
       "      <td>39</td>\n",
       "      <td>MIL</td>\n",
       "      <td>2</td>\n",
       "      <td>39</td>\n",
       "      <td>0</td>\n",
       "    </tr>\n",
       "  </tbody>\n",
       "</table>\n",
       "<p>5 rows × 45 columns</p>\n",
       "</div>"
      ],
      "text/plain": [
       "           Player Class  Season Pos                 School      Conf   G  \\\n",
       "0       Ray Nixon    SR    2006   F              Wisconsin   Big Ten  31   \n",
       "1    Ismaila Njie    FR    2006   C  Florida International  Sun Belt  17   \n",
       "2  Simplice Njoya    SR    2006   F                Memphis      CUSA  10   \n",
       "3   Anthony Noble    SR    2006   G            Stony Brook       AEC  23   \n",
       "4      David Noel    SR    2006   G         North Carolina       ACC  31   \n",
       "\n",
       "       MP     FG    FGA  ...  Sporting News Player of the Year  \\\n",
       "0  23.548  2.194  5.355  ...                                 0   \n",
       "1   6.059  0.412  1.176  ...                                 0   \n",
       "2   4.200  0.000  0.400  ...                                 0   \n",
       "3   7.000  0.783  1.739  ...                                 0   \n",
       "4  33.710  5.097  9.581  ...                                 0   \n",
       "\n",
       "   UPI Player of the Year  USBWA Freshman of the Year  Year Drafted  Rd  Pk  \\\n",
       "0                       0                           0             0   0   0   \n",
       "1                       0                           0             0   0   0   \n",
       "2                       0                           0             0   0   0   \n",
       "3                       0                           0             0   0   0   \n",
       "4                       0                           0          2006   2  39   \n",
       "\n",
       "    Tm  Projected Rd  Projected Pk  Team Score  \n",
       "0  NaN             0             0           0  \n",
       "1  NaN             0             0           0  \n",
       "2  NaN             0             0           0  \n",
       "3  NaN             0             0           0  \n",
       "4  MIL             2            39           0  \n",
       "\n",
       "[5 rows x 45 columns]"
      ]
     },
     "execution_count": 78,
     "metadata": {},
     "output_type": "execute_result"
    }
   ],
   "source": [
    "#Importing NCAA and draft merge data\n",
    "ncaa_draft_alldata = pd.read_csv('../static/data/ncaa_model_in.csv')\n",
    "ncaa_draft_alldata.head()"
   ]
  },
  {
   "cell_type": "code",
   "execution_count": 79,
   "metadata": {},
   "outputs": [
    {
     "data": {
      "text/html": [
       "<div>\n",
       "<style scoped>\n",
       "    .dataframe tbody tr th:only-of-type {\n",
       "        vertical-align: middle;\n",
       "    }\n",
       "\n",
       "    .dataframe tbody tr th {\n",
       "        vertical-align: top;\n",
       "    }\n",
       "\n",
       "    .dataframe thead th {\n",
       "        text-align: right;\n",
       "    }\n",
       "</style>\n",
       "<table border=\"1\" class=\"dataframe\">\n",
       "  <thead>\n",
       "    <tr style=\"text-align: right;\">\n",
       "      <th></th>\n",
       "      <th>Player</th>\n",
       "      <th>Class</th>\n",
       "      <th>Season</th>\n",
       "      <th>Pos</th>\n",
       "      <th>School</th>\n",
       "      <th>Conf</th>\n",
       "      <th>G</th>\n",
       "      <th>MP</th>\n",
       "      <th>FG</th>\n",
       "      <th>FGA</th>\n",
       "      <th>...</th>\n",
       "      <th>Sporting News Player of the Year</th>\n",
       "      <th>UPI Player of the Year</th>\n",
       "      <th>USBWA Freshman of the Year</th>\n",
       "      <th>Year Drafted</th>\n",
       "      <th>Rd</th>\n",
       "      <th>Pk</th>\n",
       "      <th>Tm</th>\n",
       "      <th>Projected Rd</th>\n",
       "      <th>Projected Pk</th>\n",
       "      <th>Team Score</th>\n",
       "    </tr>\n",
       "  </thead>\n",
       "  <tbody>\n",
       "    <tr>\n",
       "      <th>0</th>\n",
       "      <td>Ray Nixon</td>\n",
       "      <td>SR</td>\n",
       "      <td>2006</td>\n",
       "      <td>F</td>\n",
       "      <td>Wisconsin</td>\n",
       "      <td>Big Ten</td>\n",
       "      <td>31</td>\n",
       "      <td>23.548</td>\n",
       "      <td>2.194</td>\n",
       "      <td>5.355</td>\n",
       "      <td>...</td>\n",
       "      <td>0</td>\n",
       "      <td>0</td>\n",
       "      <td>0</td>\n",
       "      <td>0</td>\n",
       "      <td>0</td>\n",
       "      <td>61</td>\n",
       "      <td></td>\n",
       "      <td>0</td>\n",
       "      <td>61</td>\n",
       "      <td>0</td>\n",
       "    </tr>\n",
       "    <tr>\n",
       "      <th>1</th>\n",
       "      <td>Ismaila Njie</td>\n",
       "      <td>FR</td>\n",
       "      <td>2006</td>\n",
       "      <td>C</td>\n",
       "      <td>Florida International</td>\n",
       "      <td>Sun Belt</td>\n",
       "      <td>17</td>\n",
       "      <td>6.059</td>\n",
       "      <td>0.412</td>\n",
       "      <td>1.176</td>\n",
       "      <td>...</td>\n",
       "      <td>0</td>\n",
       "      <td>0</td>\n",
       "      <td>0</td>\n",
       "      <td>0</td>\n",
       "      <td>0</td>\n",
       "      <td>61</td>\n",
       "      <td></td>\n",
       "      <td>0</td>\n",
       "      <td>61</td>\n",
       "      <td>0</td>\n",
       "    </tr>\n",
       "    <tr>\n",
       "      <th>2</th>\n",
       "      <td>Simplice Njoya</td>\n",
       "      <td>SR</td>\n",
       "      <td>2006</td>\n",
       "      <td>F</td>\n",
       "      <td>Memphis</td>\n",
       "      <td>CUSA</td>\n",
       "      <td>10</td>\n",
       "      <td>4.200</td>\n",
       "      <td>0.000</td>\n",
       "      <td>0.400</td>\n",
       "      <td>...</td>\n",
       "      <td>0</td>\n",
       "      <td>0</td>\n",
       "      <td>0</td>\n",
       "      <td>0</td>\n",
       "      <td>0</td>\n",
       "      <td>61</td>\n",
       "      <td></td>\n",
       "      <td>0</td>\n",
       "      <td>61</td>\n",
       "      <td>0</td>\n",
       "    </tr>\n",
       "    <tr>\n",
       "      <th>3</th>\n",
       "      <td>Anthony Noble</td>\n",
       "      <td>SR</td>\n",
       "      <td>2006</td>\n",
       "      <td>G</td>\n",
       "      <td>Stony Brook</td>\n",
       "      <td>AEC</td>\n",
       "      <td>23</td>\n",
       "      <td>7.000</td>\n",
       "      <td>0.783</td>\n",
       "      <td>1.739</td>\n",
       "      <td>...</td>\n",
       "      <td>0</td>\n",
       "      <td>0</td>\n",
       "      <td>0</td>\n",
       "      <td>0</td>\n",
       "      <td>0</td>\n",
       "      <td>61</td>\n",
       "      <td></td>\n",
       "      <td>0</td>\n",
       "      <td>61</td>\n",
       "      <td>0</td>\n",
       "    </tr>\n",
       "    <tr>\n",
       "      <th>4</th>\n",
       "      <td>David Noel</td>\n",
       "      <td>SR</td>\n",
       "      <td>2006</td>\n",
       "      <td>G</td>\n",
       "      <td>North Carolina</td>\n",
       "      <td>ACC</td>\n",
       "      <td>31</td>\n",
       "      <td>33.710</td>\n",
       "      <td>5.097</td>\n",
       "      <td>9.581</td>\n",
       "      <td>...</td>\n",
       "      <td>0</td>\n",
       "      <td>0</td>\n",
       "      <td>0</td>\n",
       "      <td>2006</td>\n",
       "      <td>2</td>\n",
       "      <td>39</td>\n",
       "      <td>MIL</td>\n",
       "      <td>2</td>\n",
       "      <td>39</td>\n",
       "      <td>0</td>\n",
       "    </tr>\n",
       "    <tr>\n",
       "      <th>5</th>\n",
       "      <td>Londrick Nolen</td>\n",
       "      <td>SR</td>\n",
       "      <td>2006</td>\n",
       "      <td>F</td>\n",
       "      <td>Mississippi</td>\n",
       "      <td>SEC</td>\n",
       "      <td>28</td>\n",
       "      <td>25.107</td>\n",
       "      <td>3.214</td>\n",
       "      <td>7.000</td>\n",
       "      <td>...</td>\n",
       "      <td>0</td>\n",
       "      <td>0</td>\n",
       "      <td>0</td>\n",
       "      <td>0</td>\n",
       "      <td>0</td>\n",
       "      <td>61</td>\n",
       "      <td></td>\n",
       "      <td>0</td>\n",
       "      <td>61</td>\n",
       "      <td>0</td>\n",
       "    </tr>\n",
       "    <tr>\n",
       "      <th>6</th>\n",
       "      <td>Bret Noonan</td>\n",
       "      <td>SR</td>\n",
       "      <td>2006</td>\n",
       "      <td>G</td>\n",
       "      <td>Gardner-Webb</td>\n",
       "      <td>A-Sun</td>\n",
       "      <td>19</td>\n",
       "      <td>5.632</td>\n",
       "      <td>0.632</td>\n",
       "      <td>1.789</td>\n",
       "      <td>...</td>\n",
       "      <td>0</td>\n",
       "      <td>0</td>\n",
       "      <td>0</td>\n",
       "      <td>0</td>\n",
       "      <td>0</td>\n",
       "      <td>61</td>\n",
       "      <td></td>\n",
       "      <td>0</td>\n",
       "      <td>61</td>\n",
       "      <td>0</td>\n",
       "    </tr>\n",
       "    <tr>\n",
       "      <th>7</th>\n",
       "      <td>Steve Novak</td>\n",
       "      <td>SR</td>\n",
       "      <td>2006</td>\n",
       "      <td>F</td>\n",
       "      <td>Marquette</td>\n",
       "      <td>Big East</td>\n",
       "      <td>31</td>\n",
       "      <td>33.774</td>\n",
       "      <td>5.581</td>\n",
       "      <td>11.710</td>\n",
       "      <td>...</td>\n",
       "      <td>0</td>\n",
       "      <td>0</td>\n",
       "      <td>0</td>\n",
       "      <td>2006</td>\n",
       "      <td>2</td>\n",
       "      <td>32</td>\n",
       "      <td>HOU</td>\n",
       "      <td>2</td>\n",
       "      <td>32</td>\n",
       "      <td>0</td>\n",
       "    </tr>\n",
       "  </tbody>\n",
       "</table>\n",
       "<p>8 rows × 45 columns</p>\n",
       "</div>"
      ],
      "text/plain": [
       "           Player Class  Season Pos                 School      Conf   G  \\\n",
       "0       Ray Nixon    SR    2006   F              Wisconsin   Big Ten  31   \n",
       "1    Ismaila Njie    FR    2006   C  Florida International  Sun Belt  17   \n",
       "2  Simplice Njoya    SR    2006   F                Memphis      CUSA  10   \n",
       "3   Anthony Noble    SR    2006   G            Stony Brook       AEC  23   \n",
       "4      David Noel    SR    2006   G         North Carolina       ACC  31   \n",
       "5  Londrick Nolen    SR    2006   F            Mississippi       SEC  28   \n",
       "6     Bret Noonan    SR    2006   G           Gardner-Webb     A-Sun  19   \n",
       "7     Steve Novak    SR    2006   F              Marquette  Big East  31   \n",
       "\n",
       "       MP     FG     FGA  ...  Sporting News Player of the Year  \\\n",
       "0  23.548  2.194   5.355  ...                                 0   \n",
       "1   6.059  0.412   1.176  ...                                 0   \n",
       "2   4.200  0.000   0.400  ...                                 0   \n",
       "3   7.000  0.783   1.739  ...                                 0   \n",
       "4  33.710  5.097   9.581  ...                                 0   \n",
       "5  25.107  3.214   7.000  ...                                 0   \n",
       "6   5.632  0.632   1.789  ...                                 0   \n",
       "7  33.774  5.581  11.710  ...                                 0   \n",
       "\n",
       "   UPI Player of the Year  USBWA Freshman of the Year  Year Drafted  Rd  Pk  \\\n",
       "0                       0                           0             0   0  61   \n",
       "1                       0                           0             0   0  61   \n",
       "2                       0                           0             0   0  61   \n",
       "3                       0                           0             0   0  61   \n",
       "4                       0                           0          2006   2  39   \n",
       "5                       0                           0             0   0  61   \n",
       "6                       0                           0             0   0  61   \n",
       "7                       0                           0          2006   2  32   \n",
       "\n",
       "    Tm  Projected Rd  Projected Pk  Team Score  \n",
       "0                  0            61           0  \n",
       "1                  0            61           0  \n",
       "2                  0            61           0  \n",
       "3                  0            61           0  \n",
       "4  MIL             2            39           0  \n",
       "5                  0            61           0  \n",
       "6                  0            61           0  \n",
       "7  HOU             2            32           0  \n",
       "\n",
       "[8 rows x 45 columns]"
      ]
     },
     "execution_count": 79,
     "metadata": {},
     "output_type": "execute_result"
    }
   ],
   "source": [
    "# Cleaning data -- Replacing undrafted players with pick 61 and team to blank\n",
    "ncaa_draft_alldata['Pk'].replace(0, 61,inplace=True)\n",
    "ncaa_draft_alldata['Projected Pk'].replace(0, 61,inplace=True)\n",
    "ncaa_draft_alldata.Tm = ncaa_draft_alldata.Tm.fillna('')\n",
    "ncaa_draft_alldata.head(8)"
   ]
  },
  {
   "cell_type": "code",
   "execution_count": 80,
   "metadata": {},
   "outputs": [
    {
     "data": {
      "text/plain": [
       "29368"
      ]
     },
     "execution_count": 80,
     "metadata": {},
     "output_type": "execute_result"
    }
   ],
   "source": [
    "# number of rows\n",
    "ncaa_draft_alldata.shape[0]"
   ]
  },
  {
   "cell_type": "code",
   "execution_count": 81,
   "metadata": {},
   "outputs": [
    {
     "data": {
      "text/plain": [
       "28307"
      ]
     },
     "execution_count": 81,
     "metadata": {},
     "output_type": "execute_result"
    }
   ],
   "source": [
    "# deleting rows on PER less than 0 and undrafted \n",
    "delete_perlessthan0 = ncaa_draft_alldata[(ncaa_draft_alldata.PER < 0) & (ncaa_draft_alldata.Pk == 61)].index\n",
    "ncaa_draft_alldata.drop(delete_perlessthan0 , inplace=True)\n",
    "ncaa_draft_alldata.shape[0]"
   ]
  },
  {
   "cell_type": "code",
   "execution_count": 82,
   "metadata": {},
   "outputs": [
    {
     "data": {
      "text/plain": [
       "28099"
      ]
     },
     "execution_count": 82,
     "metadata": {},
     "output_type": "execute_result"
    }
   ],
   "source": [
    "# deleting rows on PER greater than 50 and undrafted \n",
    "delete_pergreaterthan50=ncaa_draft_alldata[(ncaa_draft_alldata.PER > 40) & (ncaa_draft_alldata.Pk == 61)].index\n",
    "ncaa_draft_alldata.drop(delete_pergreaterthan50 , inplace=True)\n",
    "ncaa_draft_alldata.shape[0]"
   ]
  },
  {
   "cell_type": "code",
   "execution_count": 83,
   "metadata": {},
   "outputs": [
    {
     "data": {
      "text/html": [
       "<div>\n",
       "<style scoped>\n",
       "    .dataframe tbody tr th:only-of-type {\n",
       "        vertical-align: middle;\n",
       "    }\n",
       "\n",
       "    .dataframe tbody tr th {\n",
       "        vertical-align: top;\n",
       "    }\n",
       "\n",
       "    .dataframe thead th {\n",
       "        text-align: right;\n",
       "    }\n",
       "</style>\n",
       "<table border=\"1\" class=\"dataframe\">\n",
       "  <thead>\n",
       "    <tr style=\"text-align: right;\">\n",
       "      <th></th>\n",
       "      <th>Player</th>\n",
       "      <th>Class</th>\n",
       "      <th>Season</th>\n",
       "      <th>Pos</th>\n",
       "      <th>School</th>\n",
       "      <th>Conf</th>\n",
       "      <th>G</th>\n",
       "      <th>MP</th>\n",
       "      <th>FG</th>\n",
       "      <th>FGA</th>\n",
       "      <th>...</th>\n",
       "      <th>Sporting News Player of the Year</th>\n",
       "      <th>UPI Player of the Year</th>\n",
       "      <th>USBWA Freshman of the Year</th>\n",
       "      <th>Year Drafted</th>\n",
       "      <th>Rd</th>\n",
       "      <th>Pk</th>\n",
       "      <th>Tm</th>\n",
       "      <th>Projected Rd</th>\n",
       "      <th>Projected Pk</th>\n",
       "      <th>Team Score</th>\n",
       "    </tr>\n",
       "  </thead>\n",
       "  <tbody>\n",
       "    <tr>\n",
       "      <th>0</th>\n",
       "      <td>Ray Nixon</td>\n",
       "      <td>SR</td>\n",
       "      <td>2006</td>\n",
       "      <td>F</td>\n",
       "      <td>Wisconsin</td>\n",
       "      <td>Big Ten</td>\n",
       "      <td>31</td>\n",
       "      <td>23.548</td>\n",
       "      <td>2.194</td>\n",
       "      <td>5.355</td>\n",
       "      <td>...</td>\n",
       "      <td>0</td>\n",
       "      <td>0</td>\n",
       "      <td>0</td>\n",
       "      <td>0</td>\n",
       "      <td>0</td>\n",
       "      <td>61</td>\n",
       "      <td></td>\n",
       "      <td>0</td>\n",
       "      <td>61</td>\n",
       "      <td>0</td>\n",
       "    </tr>\n",
       "    <tr>\n",
       "      <th>1</th>\n",
       "      <td>Ismaila Njie</td>\n",
       "      <td>FR</td>\n",
       "      <td>2006</td>\n",
       "      <td>C</td>\n",
       "      <td>Florida International</td>\n",
       "      <td>Sun Belt</td>\n",
       "      <td>17</td>\n",
       "      <td>6.059</td>\n",
       "      <td>0.412</td>\n",
       "      <td>1.176</td>\n",
       "      <td>...</td>\n",
       "      <td>0</td>\n",
       "      <td>0</td>\n",
       "      <td>0</td>\n",
       "      <td>0</td>\n",
       "      <td>0</td>\n",
       "      <td>61</td>\n",
       "      <td></td>\n",
       "      <td>0</td>\n",
       "      <td>61</td>\n",
       "      <td>0</td>\n",
       "    </tr>\n",
       "    <tr>\n",
       "      <th>2</th>\n",
       "      <td>Simplice Njoya</td>\n",
       "      <td>SR</td>\n",
       "      <td>2006</td>\n",
       "      <td>F</td>\n",
       "      <td>Memphis</td>\n",
       "      <td>CUSA</td>\n",
       "      <td>10</td>\n",
       "      <td>4.200</td>\n",
       "      <td>0.000</td>\n",
       "      <td>0.400</td>\n",
       "      <td>...</td>\n",
       "      <td>0</td>\n",
       "      <td>0</td>\n",
       "      <td>0</td>\n",
       "      <td>0</td>\n",
       "      <td>0</td>\n",
       "      <td>61</td>\n",
       "      <td></td>\n",
       "      <td>0</td>\n",
       "      <td>61</td>\n",
       "      <td>0</td>\n",
       "    </tr>\n",
       "    <tr>\n",
       "      <th>3</th>\n",
       "      <td>Anthony Noble</td>\n",
       "      <td>SR</td>\n",
       "      <td>2006</td>\n",
       "      <td>G</td>\n",
       "      <td>Stony Brook</td>\n",
       "      <td>AEC</td>\n",
       "      <td>23</td>\n",
       "      <td>7.000</td>\n",
       "      <td>0.783</td>\n",
       "      <td>1.739</td>\n",
       "      <td>...</td>\n",
       "      <td>0</td>\n",
       "      <td>0</td>\n",
       "      <td>0</td>\n",
       "      <td>0</td>\n",
       "      <td>0</td>\n",
       "      <td>61</td>\n",
       "      <td></td>\n",
       "      <td>0</td>\n",
       "      <td>61</td>\n",
       "      <td>0</td>\n",
       "    </tr>\n",
       "    <tr>\n",
       "      <th>4</th>\n",
       "      <td>David Noel</td>\n",
       "      <td>SR</td>\n",
       "      <td>2006</td>\n",
       "      <td>G</td>\n",
       "      <td>North Carolina</td>\n",
       "      <td>ACC</td>\n",
       "      <td>31</td>\n",
       "      <td>33.710</td>\n",
       "      <td>5.097</td>\n",
       "      <td>9.581</td>\n",
       "      <td>...</td>\n",
       "      <td>0</td>\n",
       "      <td>0</td>\n",
       "      <td>0</td>\n",
       "      <td>2006</td>\n",
       "      <td>2</td>\n",
       "      <td>39</td>\n",
       "      <td>MIL</td>\n",
       "      <td>2</td>\n",
       "      <td>39</td>\n",
       "      <td>0</td>\n",
       "    </tr>\n",
       "    <tr>\n",
       "      <th>5</th>\n",
       "      <td>Londrick Nolen</td>\n",
       "      <td>SR</td>\n",
       "      <td>2006</td>\n",
       "      <td>F</td>\n",
       "      <td>Mississippi</td>\n",
       "      <td>SEC</td>\n",
       "      <td>28</td>\n",
       "      <td>25.107</td>\n",
       "      <td>3.214</td>\n",
       "      <td>7.000</td>\n",
       "      <td>...</td>\n",
       "      <td>0</td>\n",
       "      <td>0</td>\n",
       "      <td>0</td>\n",
       "      <td>0</td>\n",
       "      <td>0</td>\n",
       "      <td>61</td>\n",
       "      <td></td>\n",
       "      <td>0</td>\n",
       "      <td>61</td>\n",
       "      <td>0</td>\n",
       "    </tr>\n",
       "    <tr>\n",
       "      <th>6</th>\n",
       "      <td>Bret Noonan</td>\n",
       "      <td>SR</td>\n",
       "      <td>2006</td>\n",
       "      <td>G</td>\n",
       "      <td>Gardner-Webb</td>\n",
       "      <td>A-Sun</td>\n",
       "      <td>19</td>\n",
       "      <td>5.632</td>\n",
       "      <td>0.632</td>\n",
       "      <td>1.789</td>\n",
       "      <td>...</td>\n",
       "      <td>0</td>\n",
       "      <td>0</td>\n",
       "      <td>0</td>\n",
       "      <td>0</td>\n",
       "      <td>0</td>\n",
       "      <td>61</td>\n",
       "      <td></td>\n",
       "      <td>0</td>\n",
       "      <td>61</td>\n",
       "      <td>0</td>\n",
       "    </tr>\n",
       "    <tr>\n",
       "      <th>7</th>\n",
       "      <td>Steve Novak</td>\n",
       "      <td>SR</td>\n",
       "      <td>2006</td>\n",
       "      <td>F</td>\n",
       "      <td>Marquette</td>\n",
       "      <td>Big East</td>\n",
       "      <td>31</td>\n",
       "      <td>33.774</td>\n",
       "      <td>5.581</td>\n",
       "      <td>11.710</td>\n",
       "      <td>...</td>\n",
       "      <td>0</td>\n",
       "      <td>0</td>\n",
       "      <td>0</td>\n",
       "      <td>2006</td>\n",
       "      <td>2</td>\n",
       "      <td>32</td>\n",
       "      <td>HOU</td>\n",
       "      <td>2</td>\n",
       "      <td>32</td>\n",
       "      <td>0</td>\n",
       "    </tr>\n",
       "  </tbody>\n",
       "</table>\n",
       "<p>8 rows × 45 columns</p>\n",
       "</div>"
      ],
      "text/plain": [
       "           Player Class  Season Pos                 School      Conf   G  \\\n",
       "0       Ray Nixon    SR    2006   F              Wisconsin   Big Ten  31   \n",
       "1    Ismaila Njie    FR    2006   C  Florida International  Sun Belt  17   \n",
       "2  Simplice Njoya    SR    2006   F                Memphis      CUSA  10   \n",
       "3   Anthony Noble    SR    2006   G            Stony Brook       AEC  23   \n",
       "4      David Noel    SR    2006   G         North Carolina       ACC  31   \n",
       "5  Londrick Nolen    SR    2006   F            Mississippi       SEC  28   \n",
       "6     Bret Noonan    SR    2006   G           Gardner-Webb     A-Sun  19   \n",
       "7     Steve Novak    SR    2006   F              Marquette  Big East  31   \n",
       "\n",
       "       MP     FG     FGA  ...  Sporting News Player of the Year  \\\n",
       "0  23.548  2.194   5.355  ...                                 0   \n",
       "1   6.059  0.412   1.176  ...                                 0   \n",
       "2   4.200  0.000   0.400  ...                                 0   \n",
       "3   7.000  0.783   1.739  ...                                 0   \n",
       "4  33.710  5.097   9.581  ...                                 0   \n",
       "5  25.107  3.214   7.000  ...                                 0   \n",
       "6   5.632  0.632   1.789  ...                                 0   \n",
       "7  33.774  5.581  11.710  ...                                 0   \n",
       "\n",
       "   UPI Player of the Year  USBWA Freshman of the Year  Year Drafted  Rd  Pk  \\\n",
       "0                       0                           0             0   0  61   \n",
       "1                       0                           0             0   0  61   \n",
       "2                       0                           0             0   0  61   \n",
       "3                       0                           0             0   0  61   \n",
       "4                       0                           0          2006   2  39   \n",
       "5                       0                           0             0   0  61   \n",
       "6                       0                           0             0   0  61   \n",
       "7                       0                           0          2006   2  32   \n",
       "\n",
       "    Tm  Projected Rd  Projected Pk  Team Score  \n",
       "0                  0            61           0  \n",
       "1                  0            61           0  \n",
       "2                  0            61           0  \n",
       "3                  0            61           0  \n",
       "4  MIL             2            39           0  \n",
       "5                  0            61           0  \n",
       "6                  0            61           0  \n",
       "7  HOU             2            32           0  \n",
       "\n",
       "[8 rows x 45 columns]"
      ]
     },
     "execution_count": 83,
     "metadata": {},
     "output_type": "execute_result"
    }
   ],
   "source": [
    "ncaa_draft_alldata.head(8)"
   ]
  },
  {
   "cell_type": "markdown",
   "metadata": {},
   "source": [
    "Modeling\n"
   ]
  },
  {
   "cell_type": "code",
   "execution_count": 84,
   "metadata": {},
   "outputs": [],
   "source": [
    "#columns:\n",
    "#Player,Class,Season,Pos,School,Conf,G,MP,FG,FGA,2P,2PA,3P,3PA,FT,FTA,ORB,DRB,TRB,AST,STL,BLK,\n",
    "#TOV,PF,PTS,PER,eFG%,WS,AP Player of the Year,NABC Defensive Player of the Year,NABC Player of the Year,\n",
    "#Naismith Award,NCAA Tournament Most Outstanding Player,NIT Most Valuable Player,Rupp Trophy,\n",
    "#Sporting News Player of the Year,UPI Player of the Year,USBWA Freshman of the Year,Year Drafted,Rd,Pk,Tm,,Projected Pk,Team Score"
   ]
  },
  {
   "cell_type": "code",
   "execution_count": 85,
   "metadata": {},
   "outputs": [],
   "source": [
    "#features  33\n",
    "#G,MP,FG,FGA,2P,2PA,3P,3PA,FT,FTA,ORB,DRB,TRB,AST,STL,BLK,\n",
    "#TOV,PF,PTS,PER,eFG%,WS,AP Player of the Year,NABC Defensive Player of the Year,NABC Player of the Year,\n",
    "#Naismith Award,NCAA Tournament Most Outstanding Player,NIT Most Valuable Player,Rupp Trophy,\n",
    "#Sporting News Player of the Year,UPI Player of the Year,USBWA Freshman of the Year,Pk"
   ]
  },
  {
   "cell_type": "code",
   "execution_count": 86,
   "metadata": {},
   "outputs": [],
   "source": [
    "ncaa_draft_alldata = ncaa_draft_alldata[(ncaa_draft_alldata.Pk !=61)]"
   ]
  },
  {
   "cell_type": "code",
   "execution_count": 87,
   "metadata": {},
   "outputs": [],
   "source": [
    "ncaa_draft_data_19992005 = ncaa_draft_alldata[(ncaa_draft_alldata.Season >= 1999) & (ncaa_draft_alldata.Season < 2005)]"
   ]
  },
  {
   "cell_type": "code",
   "execution_count": 88,
   "metadata": {},
   "outputs": [],
   "source": [
    "ncaa_draft_data = ncaa_draft_alldata[(ncaa_draft_alldata.Season >= 2005) & (ncaa_draft_alldata.Season < 2016)]"
   ]
  },
  {
   "cell_type": "code",
   "execution_count": 89,
   "metadata": {},
   "outputs": [],
   "source": [
    "ncaa_draft_data20162019 = ncaa_draft_alldata[(ncaa_draft_alldata.Season >= 2016) & (ncaa_draft_alldata.Season < 2020)]"
   ]
  },
  {
   "cell_type": "code",
   "execution_count": 90,
   "metadata": {},
   "outputs": [
    {
     "data": {
      "text/plain": [
       "0"
      ]
     },
     "execution_count": 90,
     "metadata": {},
     "output_type": "execute_result"
    }
   ],
   "source": [
    "ncaa_draft_data_19992005.shape[0]"
   ]
  },
  {
   "cell_type": "code",
   "execution_count": 91,
   "metadata": {},
   "outputs": [
    {
     "data": {
      "text/plain": [
       "393"
      ]
     },
     "execution_count": 91,
     "metadata": {},
     "output_type": "execute_result"
    }
   ],
   "source": [
    "ncaa_draft_data.shape[0]"
   ]
  },
  {
   "cell_type": "code",
   "execution_count": 92,
   "metadata": {},
   "outputs": [
    {
     "data": {
      "text/plain": [
       "173"
      ]
     },
     "execution_count": 92,
     "metadata": {},
     "output_type": "execute_result"
    }
   ],
   "source": [
    "ncaa_draft_data20162019.shape[0]"
   ]
  },
  {
   "cell_type": "code",
   "execution_count": 93,
   "metadata": {},
   "outputs": [],
   "source": [
    "#features and target\n",
    "features = ncaa_draft_data.drop(['Player','Class','Season','Pos','School','Conf','Year Drafted','Rd','Tm','Projected Pk','Team Score','Pk'],1)\n",
    "target = ncaa_draft_data['Pk']"
   ]
  },
  {
   "cell_type": "code",
   "execution_count": 94,
   "metadata": {},
   "outputs": [
    {
     "data": {
      "text/plain": [
       "Index(['G', 'MP', 'FG', 'FGA', '2P', '2PA', '3P', '3PA', 'FT', 'FTA', 'ORB',\n",
       "       'DRB', 'TRB', 'AST', 'STL', 'BLK', 'TOV', 'PF', 'PTS', 'PER', 'eFG%',\n",
       "       'WS', 'AP Player of the Year', 'NABC Defensive Player of the Year',\n",
       "       'NABC Player of the Year', 'Naismith Award',\n",
       "       'NCAA Tournament Most Outstanding Player', 'NIT Most Valuable Player',\n",
       "       'Rupp Trophy', 'Sporting News Player of the Year',\n",
       "       'UPI Player of the Year', 'USBWA Freshman of the Year', 'Projected Rd'],\n",
       "      dtype='object')"
      ]
     },
     "execution_count": 94,
     "metadata": {},
     "output_type": "execute_result"
    }
   ],
   "source": [
    "features.columns"
   ]
  },
  {
   "cell_type": "code",
   "execution_count": 95,
   "metadata": {},
   "outputs": [],
   "source": [
    "#split training and testing data\n",
    "features_train, features_test, target_train, target_test = train_test_split(features, target, test_size = 0.40)"
   ]
  },
  {
   "cell_type": "code",
   "execution_count": 96,
   "metadata": {},
   "outputs": [
    {
     "data": {
      "text/plain": [
       "array([[-3.40630283e-01, -2.56198912e+00, -1.28836456e+00, ...,\n",
       "         0.00000000e+00, -1.13714707e-01, -8.60662966e-01],\n",
       "       [-3.18257525e+00, -2.01419040e-01, -3.62732991e-01, ...,\n",
       "         0.00000000e+00, -1.13714707e-01,  1.16189500e+00],\n",
       "       [ 1.33027211e-01,  1.08318287e+00,  5.68963324e-01, ...,\n",
       "         0.00000000e+00, -1.13714707e-01,  1.16189500e+00],\n",
       "       ...,\n",
       "       [-1.03801536e-01,  3.26892078e-03, -4.77205036e-01, ...,\n",
       "         0.00000000e+00, -1.13714707e-01,  1.16189500e+00],\n",
       "       [-4.60354774e+00,  3.64555503e-01, -8.60800102e-01, ...,\n",
       "         0.00000000e+00, -1.13714707e-01, -8.60662966e-01],\n",
       "       [-1.05111653e+00, -1.36806696e-01,  3.77165792e-01, ...,\n",
       "         0.00000000e+00, -1.13714707e-01, -8.60662966e-01]])"
      ]
     },
     "execution_count": 96,
     "metadata": {},
     "output_type": "execute_result"
    }
   ],
   "source": [
    "#standardize the features\n",
    "scaler = preprocessing.StandardScaler().fit(features_train)\n",
    "scaler.transform(features_train)\n",
    "scaler.transform(features_test)"
   ]
  },
  {
   "cell_type": "code",
   "execution_count": 97,
   "metadata": {},
   "outputs": [
    {
     "data": {
      "text/plain": [
       "MLPRegressor(activation='identity', alpha=0.005, batch_size='auto', beta_1=0.9,\n",
       "             beta_2=0.999, early_stopping=False, epsilon=1e-08,\n",
       "             hidden_layer_sizes=(33,), learning_rate='constant',\n",
       "             learning_rate_init=0.001, max_iter=500, momentum=0.9,\n",
       "             n_iter_no_change=10, nesterovs_momentum=True, power_t=0.5,\n",
       "             random_state=None, shuffle=True, solver='lbfgs', tol=0.0001,\n",
       "             validation_fraction=0.1, verbose=False, warm_start=False)"
      ]
     },
     "execution_count": 97,
     "metadata": {},
     "output_type": "execute_result"
    }
   ],
   "source": [
    "#Fit model by a multi-layer perceptron neural network using lbfgs optimization\n",
    "model_MLP = MLPRegressor(hidden_layer_sizes = (33,), activation='identity', solver='lbfgs', alpha = 0.005, max_iter = 500, shuffle=True)\n",
    "model_MLP.fit(features_train, target_train)"
   ]
  },
  {
   "cell_type": "code",
   "execution_count": 98,
   "metadata": {},
   "outputs": [
    {
     "data": {
      "text/plain": [
       "MLPRegressor(activation='identity', alpha=0.001, batch_size='auto', beta_1=0.9,\n",
       "             beta_2=0.999, early_stopping=False, epsilon=1e-08,\n",
       "             hidden_layer_sizes=(32,), learning_rate='constant',\n",
       "             learning_rate_init=0.001, max_iter=1000, momentum=0.9,\n",
       "             n_iter_no_change=10, nesterovs_momentum=True, power_t=0.5,\n",
       "             random_state=None, shuffle=True, solver='adam', tol=0.0001,\n",
       "             validation_fraction=0.1, verbose=False, warm_start=False)"
      ]
     },
     "execution_count": 98,
     "metadata": {},
     "output_type": "execute_result"
    }
   ],
   "source": [
    "#Fit model by a multi-layer perceptron neural network using lbfgs optimization\n",
    "model_MLP = MLPRegressor(hidden_layer_sizes = (32,), activation='identity', solver='adam', alpha = 0.001, max_iter = 1000, shuffle=True)\n",
    "model_MLP.fit(features_train, target_train)"
   ]
  },
  {
   "cell_type": "code",
   "execution_count": 99,
   "metadata": {},
   "outputs": [
    {
     "data": {
      "text/plain": [
       "<matplotlib.axes._subplots.AxesSubplot at 0x15b4a2217f0>"
      ]
     },
     "execution_count": 99,
     "metadata": {},
     "output_type": "execute_result"
    },
    {
     "data": {
      "image/png": "[encoded data removed]",
      "text/plain": [
       "<Figure size 432x288 with 1 Axes>"
      ]
     },
     "metadata": {
      "needs_background": "light"
     },
     "output_type": "display_data"
    }
   ],
   "source": [
    "pd.DataFrame(model_MLP.loss_curve_).plot()"
   ]
  },
  {
   "cell_type": "code",
   "execution_count": 100,
   "metadata": {},
   "outputs": [],
   "source": [
    "#MSEMLP = mean_squared_error(y_true, y_predict)"
   ]
  },
  {
   "cell_type": "code",
   "execution_count": 101,
   "metadata": {},
   "outputs": [
    {
     "data": {
      "text/plain": [
       "Ridge(alpha=1.0, copy_X=True, fit_intercept=True, max_iter=None,\n",
       "      normalize=False, random_state=None, solver='auto', tol=0.001)"
      ]
     },
     "execution_count": 101,
     "metadata": {},
     "output_type": "execute_result"
    }
   ],
   "source": [
    "#Fit a model by Ridge Regression\n",
    "model_ridge = Ridge(alpha=1.0)\n",
    "model_ridge.fit(features_train, target_train)"
   ]
  },
  {
   "cell_type": "code",
   "execution_count": 102,
   "metadata": {},
   "outputs": [
    {
     "data": {
      "text/plain": [
       "SVR(C=1.0, cache_size=200, coef0=0.0, degree=3, epsilon=0.1,\n",
       "    gamma='auto_deprecated', kernel='linear', max_iter=-1, shrinking=True,\n",
       "    tol=0.001, verbose=False)"
      ]
     },
     "execution_count": 102,
     "metadata": {},
     "output_type": "execute_result"
    }
   ],
   "source": [
    "#Fit a model by a linear SVR\n",
    "model_SVR = SVR(kernel = 'linear')\n",
    "model_SVR.fit(features_train, target_train)"
   ]
  },
  {
   "cell_type": "code",
   "execution_count": 103,
   "metadata": {},
   "outputs": [
    {
     "data": {
      "text/plain": [
       "Lasso(alpha=1.0, copy_X=True, fit_intercept=True, max_iter=1000,\n",
       "      normalize=False, positive=False, precompute=False, random_state=None,\n",
       "      selection='cyclic', tol=0.0001, warm_start=False)"
      ]
     },
     "execution_count": 103,
     "metadata": {},
     "output_type": "execute_result"
    }
   ],
   "source": [
    "#Fit a model by Lasso Regression\n",
    "model_lasso = linear_model.Lasso()\n",
    "model_lasso.fit(features_train, target_train)"
   ]
  },
  {
   "cell_type": "code",
   "execution_count": 104,
   "metadata": {},
   "outputs": [
    {
     "name": "stdout",
     "output_type": "stream",
     "text": [
      "49.3327782081262\n",
      "[-2.19299738e-02 -8.49360984e-01 -1.84242045e+03 -5.06513885e+02\n",
      "  1.10868482e+03  5.05603902e+02  7.46426746e+02  5.03683400e+02\n",
      " -3.69142676e+02  9.51748012e-01  2.41300057e+03  2.41035914e+03\n",
      " -2.40997712e+03  2.02356997e+00  2.17784242e+00 -3.55854104e-01\n",
      " -6.34358818e+00 -5.77274055e-01  3.69864052e+02 -1.46598128e+00\n",
      " -4.36920789e+01 -4.44477237e-01 -1.86817688e+00 -6.78648699e+00\n",
      " -4.70781783e+00 -1.86817688e+00  3.11474615e+00  4.17974448e+00\n",
      "  7.74797954e-01  7.74797954e-01  0.00000000e+00 -6.60392690e+00\n",
      "  2.76353809e+01]\n"
     ]
    }
   ],
   "source": [
    "#Fit model by linear regression\n",
    "model_LR = LinearRegression()\n",
    "model_LR.fit(features_train, target_train)\n",
    "print(model_LR.intercept_)\n",
    "print(model_LR.coef_)"
   ]
  },
  {
   "cell_type": "code",
   "execution_count": 105,
   "metadata": {},
   "outputs": [],
   "source": [
    "#Predict target on testing data\n",
    "target_pred_MLP = model_MLP.predict(features_test)\n",
    "target_pred_LR = model_LR.predict(features_test)\n",
    "target_pred_ridge = model_ridge.predict(features_test)\n",
    "target_pred_SVR = model_SVR.predict(features_test)\n",
    "target_pred_lasso = model_lasso.predict(features_test)"
   ]
  },
  {
   "cell_type": "code",
   "execution_count": 106,
   "metadata": {},
   "outputs": [
    {
     "data": {
      "text/plain": [
       "array([[-0.10380154,  0.22102732, -0.76679657, ...,  0.        ,\n",
       "        -0.11371471,  1.161895  ],\n",
       "       [-0.81428778, -1.51438134, -0.69477773, ...,  0.        ,\n",
       "        -0.11371471,  1.161895  ],\n",
       "       [ 0.36985596,  1.10291183,  1.09356369, ...,  0.        ,\n",
       "        -0.11371471, -0.86066297],\n",
       "       ...,\n",
       "       [ 0.60668471, -0.13138123,  1.58935652, ...,  0.        ,\n",
       "        -0.11371471, -0.86066297],\n",
       "       [ 0.84351345,  1.15248085, -0.09436806, ...,  0.        ,\n",
       "        -0.11371471,  1.161895  ],\n",
       "       [-6.97183521, -0.7205373 ,  0.35214872, ...,  0.        ,\n",
       "        -0.11371471, -0.86066297]])"
      ]
     },
     "execution_count": 106,
     "metadata": {},
     "output_type": "execute_result"
    }
   ],
   "source": [
    "#Importing NCAA and draft merge data\n",
    "nba_draft_data = ncaa_draft_data20162019\n",
    "pro_features = nba_draft_data.drop(['Player','Class','Season','Pos','School','Conf','Year Drafted','Rd','Tm','Projected Pk','Team Score','Pk'], 1)\n",
    "scaler.transform(pro_features)"
   ]
  },
  {
   "cell_type": "code",
   "execution_count": 107,
   "metadata": {},
   "outputs": [
    {
     "data": {
      "text/plain": [
       "170"
      ]
     },
     "execution_count": 107,
     "metadata": {},
     "output_type": "execute_result"
    }
   ],
   "source": [
    "#Using the multi-layer perceptron neural network model to predict current prospects\n",
    "MLPPrediction = model_MLP.predict(pro_features)\n",
    "nba_draft_data['Projected Pk'] = MLPPrediction\n",
    "nba_draft_data['Projected Pk'] = nba_draft_data['Projected Pk'].round()\n",
    "MLPResults = nba_draft_data[['Player','Class','Season','Pos','School','Conf','Year Drafted','Rd','Pk','Tm','Projected Pk']]\n",
    "MLPResults.head(8)\n",
    "mlpdiff = MLPResults[(MLPResults['Pk'] != MLPResults['Projected Pk'])]\n",
    "mlpdiff.head()\n",
    "mlpdiff.shape[0]"
   ]
  },
  {
   "cell_type": "code",
   "execution_count": 108,
   "metadata": {},
   "outputs": [
    {
     "data": {
      "text/plain": [
       "168"
      ]
     },
     "execution_count": 108,
     "metadata": {},
     "output_type": "execute_result"
    }
   ],
   "source": [
    "#Using the Linear regression perceptron neural network model to predict current prospects\n",
    "LRPrediction = model_LR.predict(pro_features)\n",
    "nba_draft_data['Projected Pk'] = LRPrediction\n",
    "nba_draft_data['Projected Pk'] = nba_draft_data['Projected Pk'].round()\n",
    "LRResults = nba_draft_data[['Player','Class','Season','Pos','School','Conf','Year Drafted','Rd','Pk','Tm','Projected Pk']]\n",
    "lrdiff = LRResults[(LRResults['Pk'] != LRResults['Projected Pk'])]\n",
    "lrdiff.shape[0]\n"
   ]
  },
  {
   "cell_type": "code",
   "execution_count": 109,
   "metadata": {},
   "outputs": [
    {
     "data": {
      "text/plain": [
       "168"
      ]
     },
     "execution_count": 109,
     "metadata": {},
     "output_type": "execute_result"
    }
   ],
   "source": [
    "#Using the Ridge perceptron neural network model to predict current prospects\n",
    "RidgePrediction = model_ridge.predict(pro_features)\n",
    "nba_draft_data['Projected Pk'] = RidgePrediction\n",
    "nba_draft_data['Projected Pk'] = nba_draft_data['Projected Pk'].round()\n",
    "RidgeResults = nba_draft_data[['Player','Class','Season','Pos','School','Conf','Year Drafted','Rd','Pk','Tm','Projected Pk']]\n",
    "ridgediff = RidgeResults[(LRResults['Pk'] != RidgeResults['Projected Pk'])]\n",
    "ridgediff.shape[0]\n"
   ]
  },
  {
   "cell_type": "code",
   "execution_count": 110,
   "metadata": {},
   "outputs": [
    {
     "data": {
      "text/plain": [
       "164"
      ]
     },
     "execution_count": 110,
     "metadata": {},
     "output_type": "execute_result"
    }
   ],
   "source": [
    "#Using the lasso perceptron neural network model to predict current prospects\n",
    "lassoPrediction = model_lasso.predict(pro_features)\n",
    "nba_draft_data['Projected Pk'] = lassoPrediction\n",
    "nba_draft_data['Projected Pk'] = nba_draft_data['Projected Pk'].round()\n",
    "lassoResults = nba_draft_data[['Player','Class','Season','Pos','School','Conf','Year Drafted','Rd','Pk','Tm','Projected Pk']]\n",
    "lassodiff = lassoResults[(lassoResults['Pk'] != lassoResults['Projected Pk'])]\n",
    "lassodiff.shape[0]\n"
   ]
  },
  {
   "cell_type": "code",
   "execution_count": null,
   "metadata": {},
   "outputs": [],
   "source": []
  },
  {
   "cell_type": "code",
   "execution_count": 111,
   "metadata": {},
   "outputs": [
    {
     "data": {
      "text/plain": [
       "166"
      ]
     },
     "execution_count": 111,
     "metadata": {},
     "output_type": "execute_result"
    }
   ],
   "source": [
    "#Using the SVR perceptron neural network model to predict current prospects\n",
    "SVRPrediction = model_SVR.predict(pro_features)\n",
    "nba_draft_data['Projected Pk'] = SVRPrediction\n",
    "nba_draft_data['Projected Pk'] = nba_draft_data['Projected Pk'].round()\n",
    "SVRResults = nba_draft_data[['Player','Class','Season','Pos','School','Conf','Year Drafted','Rd','Pk','Tm','Projected Pk']]\n",
    "svrdiff = SVRResults[(SVRResults['Pk'] != SVRResults['Projected Pk'])]\n",
    "svrdiff.shape[0]"
   ]
  },
  {
   "cell_type": "code",
   "execution_count": 112,
   "metadata": {},
   "outputs": [],
   "source": [
    "MLPResults.to_csv('../static/data/MLPpredictions.csv')"
   ]
  },
  {
   "cell_type": "code",
   "execution_count": 113,
   "metadata": {},
   "outputs": [],
   "source": [
    "LRResults.to_csv('../static/data/LRpredictions.csv')"
   ]
  },
  {
   "cell_type": "code",
   "execution_count": 114,
   "metadata": {},
   "outputs": [],
   "source": [
    "RidgeResults.to_csv('../static/data/Ridgepredictions.csv')"
   ]
  },
  {
   "cell_type": "code",
   "execution_count": 115,
   "metadata": {},
   "outputs": [],
   "source": [
    "lassoResults.to_csv('../static/data/Lassopredictions.csv')"
   ]
  },
  {
   "cell_type": "code",
   "execution_count": 116,
   "metadata": {},
   "outputs": [],
   "source": [
    "SVRResults.to_csv('../static/data/SVRpredictions.csv')"
   ]
  },
  {
   "cell_type": "code",
   "execution_count": null,
   "metadata": {},
   "outputs": [],
   "source": []
  }
 ],
 "metadata": {
  "kernelspec": {
   "display_name": "Python 3",
   "language": "python",
   "name": "python3"
  },
  "language_info": {
   "codemirror_mode": {
    "name": "ipython",
    "version": 3
   },
   "file_extension": ".py",
   "mimetype": "text/x-python",
   "name": "python",
   "nbconvert_exporter": "python",
   "pygments_lexer": "ipython3",
   "version": "3.7.0"
  }
 },
 "nbformat": 4,
 "nbformat_minor": 2
}
